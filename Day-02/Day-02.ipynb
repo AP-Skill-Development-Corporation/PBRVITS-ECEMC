{
 "cells": [
  {
   "cell_type": "markdown",
   "id": "f13dc4e2",
   "metadata": {},
   "source": [
    "# Python Basics"
   ]
  },
  {
   "cell_type": "markdown",
   "id": "e0e20d2a",
   "metadata": {},
   "source": [
    "## Variables:\n",
    "    - To store a value\n",
    "    - To change a value"
   ]
  },
  {
   "cell_type": "markdown",
   "id": "7c2efdf8",
   "metadata": {},
   "source": [
    "## Data Types:\n",
    "    - int => only numeric values\n",
    "    - float => both numeric and decimal values\n",
    "    - string => enclosed with ' or \"\n",
    "    - complex => real and imaginary part\n",
    "    - boolean => True,False or None\n",
    "    - All Data Structures [list,tuple,set and Dictionary]"
   ]
  },
  {
   "cell_type": "code",
   "execution_count": 14,
   "id": "aabdaf1c",
   "metadata": {},
   "outputs": [
    {
     "data": {
      "text/plain": [
       "20"
      ]
     },
     "execution_count": 14,
     "metadata": {},
     "output_type": "execute_result"
    }
   ],
   "source": [
    "a = 20\n",
    "a"
   ]
  },
  {
   "cell_type": "code",
   "execution_count": 15,
   "id": "9ca9b917",
   "metadata": {},
   "outputs": [
    {
     "data": {
      "text/plain": [
       "30"
      ]
     },
     "execution_count": 15,
     "metadata": {},
     "output_type": "execute_result"
    }
   ],
   "source": [
    "b = 30\n",
    "b"
   ]
  },
  {
   "cell_type": "code",
   "execution_count": 19,
   "id": "c79274de",
   "metadata": {},
   "outputs": [
    {
     "data": {
      "text/plain": [
       "30"
      ]
     },
     "execution_count": 19,
     "metadata": {},
     "output_type": "execute_result"
    }
   ],
   "source": [
    "a\n",
    "b"
   ]
  },
  {
   "cell_type": "code",
   "execution_count": 20,
   "id": "a055adef",
   "metadata": {},
   "outputs": [
    {
     "data": {
      "text/plain": [
       "(20, 30)"
      ]
     },
     "execution_count": 20,
     "metadata": {},
     "output_type": "execute_result"
    }
   ],
   "source": [
    "a,b"
   ]
  },
  {
   "cell_type": "code",
   "execution_count": 22,
   "id": "b348eb96",
   "metadata": {},
   "outputs": [
    {
     "ename": "ValueError",
     "evalue": "too many values to unpack (expected 2)",
     "output_type": "error",
     "traceback": [
      "\u001b[1;31m-------------------------------------------------------------------------\u001b[0m",
      "\u001b[1;31mValueError\u001b[0m                              Traceback (most recent call last)",
      "\u001b[1;32m<ipython-input-22-76a35c4af3ea>\u001b[0m in \u001b[0;36m<module>\u001b[1;34m\u001b[0m\n\u001b[1;32m----> 1\u001b[1;33m \u001b[0mc\u001b[0m\u001b[1;33m,\u001b[0m\u001b[0md\u001b[0m \u001b[1;33m=\u001b[0m \u001b[1;36m45\u001b[0m\u001b[1;33m,\u001b[0m\u001b[1;36m78.0213\u001b[0m\u001b[1;33m,\u001b[0m\u001b[1;34m'prasad'\u001b[0m\u001b[1;33m\u001b[0m\u001b[1;33m\u001b[0m\u001b[0m\n\u001b[0m\u001b[0;32m      2\u001b[0m \u001b[0mc\u001b[0m\u001b[1;33m,\u001b[0m\u001b[0md\u001b[0m\u001b[1;33m\u001b[0m\u001b[1;33m\u001b[0m\u001b[0m\n",
      "\u001b[1;31mValueError\u001b[0m: too many values to unpack (expected 2)"
     ]
    }
   ],
   "source": [
    "c,d = 45,78.0213,'prasad'\n",
    "c,d"
   ]
  },
  {
   "cell_type": "code",
   "execution_count": 23,
   "id": "b3753930",
   "metadata": {},
   "outputs": [
    {
     "ename": "ValueError",
     "evalue": "not enough values to unpack (expected 4, got 3)",
     "output_type": "error",
     "traceback": [
      "\u001b[1;31m-------------------------------------------------------------------------\u001b[0m",
      "\u001b[1;31mValueError\u001b[0m                              Traceback (most recent call last)",
      "\u001b[1;32m<ipython-input-23-25b6f9a1fcdf>\u001b[0m in \u001b[0;36m<module>\u001b[1;34m\u001b[0m\n\u001b[1;32m----> 1\u001b[1;33m \u001b[0mc\u001b[0m\u001b[1;33m,\u001b[0m\u001b[0md\u001b[0m\u001b[1;33m,\u001b[0m\u001b[0mj\u001b[0m\u001b[1;33m,\u001b[0m\u001b[0mm\u001b[0m \u001b[1;33m=\u001b[0m \u001b[1;36m45\u001b[0m\u001b[1;33m,\u001b[0m\u001b[1;36m78.0213\u001b[0m\u001b[1;33m,\u001b[0m\u001b[1;34m'prasad'\u001b[0m\u001b[1;33m\u001b[0m\u001b[1;33m\u001b[0m\u001b[0m\n\u001b[0m\u001b[0;32m      2\u001b[0m \u001b[0mc\u001b[0m\u001b[1;33m,\u001b[0m\u001b[0md\u001b[0m\u001b[1;33m,\u001b[0m\u001b[0mj\u001b[0m\u001b[1;33m,\u001b[0m\u001b[0mm\u001b[0m\u001b[1;33m\u001b[0m\u001b[1;33m\u001b[0m\u001b[0m\n",
      "\u001b[1;31mValueError\u001b[0m: not enough values to unpack (expected 4, got 3)"
     ]
    }
   ],
   "source": [
    "c,d,j,m = 45,78.0213,'prasad'\n",
    "c,d,j,m"
   ]
  },
  {
   "cell_type": "code",
   "execution_count": 24,
   "id": "72ee8bbd",
   "metadata": {},
   "outputs": [
    {
     "data": {
      "text/plain": [
       "(0, 0, 0)"
      ]
     },
     "execution_count": 24,
     "metadata": {},
     "output_type": "execute_result"
    }
   ],
   "source": [
    "d = e = g = 0\n",
    "d,e,g"
   ]
  },
  {
   "cell_type": "code",
   "execution_count": 25,
   "id": "01ef09eb",
   "metadata": {},
   "outputs": [
    {
     "name": "stdout",
     "output_type": "stream",
     "text": [
      "12 45.02132 False Prasad 45\n"
     ]
    }
   ],
   "source": [
    "s,g,k,p,n = 12,45.02132,False,'Prasad','45'\n",
    "print(s,g,k,p,n)"
   ]
  },
  {
   "cell_type": "markdown",
   "id": "fd5d5174",
   "metadata": {},
   "source": [
    "## Type:\n",
    "    - To Know the data type of a variable\n",
    "    - Syntax:\n",
    "        type(variablename)"
   ]
  },
  {
   "cell_type": "code",
   "execution_count": 26,
   "id": "924db71d",
   "metadata": {},
   "outputs": [
    {
     "name": "stdout",
     "output_type": "stream",
     "text": [
      "45.0213 <class 'str'>\n",
      "45 <class 'int'>\n"
     ]
    }
   ],
   "source": [
    "t,n = '45.0213',45\n",
    "print(t,type(t))\n",
    "print(n,type(n))"
   ]
  },
  {
   "cell_type": "code",
   "execution_count": 30,
   "id": "38001b2d",
   "metadata": {},
   "outputs": [
    {
     "name": "stdout",
     "output_type": "stream",
     "text": [
      "45.0213 <class 'str'>\n"
     ]
    },
    {
     "data": {
      "text/plain": [
       "('45.0213', str)"
      ]
     },
     "execution_count": 30,
     "metadata": {},
     "output_type": "execute_result"
    }
   ],
   "source": [
    "print(t,type(t))\n",
    "t,type(t)"
   ]
  },
  {
   "cell_type": "markdown",
   "id": "eec37d3f",
   "metadata": {},
   "source": [
    "## Input method:\n",
    "    - By default it stores string data type values\n",
    "    - It will dislpays an info to a user\n",
    "    - It will access the data from user\n",
    "    - Syntax:\n",
    "        input(\"something text to a user\")"
   ]
  },
  {
   "cell_type": "code",
   "execution_count": 5,
   "id": "ef9239e5",
   "metadata": {},
   "outputs": [
    {
     "name": "stdout",
     "output_type": "stream",
     "text": [
      "Enter a value: @\n",
      "@ <class 'str'>\n"
     ]
    }
   ],
   "source": [
    "n = input(\"Enter a value: \")\n",
    "print(n,type(n))"
   ]
  },
  {
   "cell_type": "markdown",
   "id": "af5d127b",
   "metadata": {},
   "source": [
    "## TypeCasting:\n",
    "    - To change the data type from one data type to another data type\n",
    "    - int()\n",
    "    - float()\n",
    "    - str()\n",
    "    - complex()\n",
    "    - All Data Structures [List,Tuple,Set and Dictionary]"
   ]
  },
  {
   "cell_type": "code",
   "execution_count": 7,
   "id": "eb913320",
   "metadata": {},
   "outputs": [
    {
     "name": "stdout",
     "output_type": "stream",
     "text": [
      "Enter First value: 4\n",
      "Enter Second value: 5\n",
      "4 <class 'str'>\n",
      "5 <class 'str'>\n",
      "Addition of two values is:  9\n"
     ]
    }
   ],
   "source": [
    "r = input(\"Enter First value: \")\n",
    "y = input(\"Enter Second value: \")\n",
    "print(r,type(r))\n",
    "print(y,type(y))\n",
    "print(\"Addition of two values is: \",int(r)+int(y))\n",
    "print(r,type(r))\n",
    "print(y,type(y))"
   ]
  },
  {
   "cell_type": "code",
   "execution_count": 8,
   "id": "6c149ca9",
   "metadata": {},
   "outputs": [
    {
     "name": "stdout",
     "output_type": "stream",
     "text": [
      "Enter First value: 45\n",
      "Enter Second value: 12\n",
      "45 <class 'int'>\n",
      "12 <class 'int'>\n",
      "Addition of two values is:  57\n",
      "45 <class 'int'>\n",
      "12 <class 'int'>\n"
     ]
    }
   ],
   "source": [
    "r = int(input(\"Enter First value: \"))\n",
    "y = int(input(\"Enter Second value: \"))\n",
    "print(r,type(r))\n",
    "print(y,type(y))\n",
    "print(\"Addition of two values is: \",r+y)\n",
    "print(r,type(r))\n",
    "print(y,type(y))"
   ]
  },
  {
   "cell_type": "markdown",
   "id": "30886ff4",
   "metadata": {},
   "source": [
    "## Output Formatting:\n",
    "    - ,\n",
    "    - %\n",
    "    - .format => pyformat.info"
   ]
  },
  {
   "cell_type": "code",
   "execution_count": 10,
   "id": "874143ba",
   "metadata": {},
   "outputs": [
    {
     "name": "stdout",
     "output_type": "stream",
     "text": [
      "Enter a value: 4\n",
      "Enter b value: 5\n",
      "Addition of 4 and 5 is: 9\n"
     ]
    }
   ],
   "source": [
    "n,m = int(input(\"Enter a value: \")),int(input(\"Enter b value: \"))\n",
    "print(\"Addition of\",n,\"and\",m,\"is:\",n+m)"
   ]
  },
  {
   "cell_type": "code",
   "execution_count": null,
   "id": "b7019b8e",
   "metadata": {},
   "outputs": [],
   "source": []
  }
 ],
 "metadata": {
  "kernelspec": {
   "display_name": "Python 3",
   "language": "python",
   "name": "python3"
  },
  "language_info": {
   "codemirror_mode": {
    "name": "ipython",
    "version": 3
   },
   "file_extension": ".py",
   "mimetype": "text/x-python",
   "name": "python",
   "nbconvert_exporter": "python",
   "pygments_lexer": "ipython3",
   "version": "3.7.5"
  }
 },
 "nbformat": 4,
 "nbformat_minor": 5
}
