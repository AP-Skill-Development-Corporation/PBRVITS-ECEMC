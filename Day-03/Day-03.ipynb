{
 "cells": [
  {
   "cell_type": "markdown",
   "id": "5cfebe7e",
   "metadata": {},
   "source": [
    "## Operators:\n",
    "    - Arithmetic => +,-,*,/,%,floor Division(//),Power(**) \n",
    "    - Logical => AND,OR,NOT\n",
    "    - Bitwise => &,|,>>,<<\n",
    "    - Relational => <,>,<=,>=,!=,==\n",
    "    - Assignment => +=,-=,/=,//=,*=,%=\n",
    "    - Membership => in,not in\n",
    "    - Identity => is,is not"
   ]
  },
  {
   "cell_type": "code",
   "execution_count": 14,
   "id": "379a1565",
   "metadata": {},
   "outputs": [
    {
     "data": {
      "text/plain": [
       "110"
      ]
     },
     "execution_count": 14,
     "metadata": {},
     "output_type": "execute_result"
    }
   ],
   "source": [
    "a = 100\n",
    "b = 78\n",
    "a | b"
   ]
  },
  {
   "cell_type": "code",
   "execution_count": 6,
   "id": "1b3f361a",
   "metadata": {},
   "outputs": [
    {
     "data": {
      "text/plain": [
       "140723785134640"
      ]
     },
     "execution_count": 6,
     "metadata": {},
     "output_type": "execute_result"
    }
   ],
   "source": [
    "id(a)"
   ]
  },
  {
   "cell_type": "code",
   "execution_count": 7,
   "id": "bc3dac7a",
   "metadata": {},
   "outputs": [
    {
     "data": {
      "text/plain": [
       "140723785136816"
      ]
     },
     "execution_count": 7,
     "metadata": {},
     "output_type": "execute_result"
    }
   ],
   "source": [
    "id(b)"
   ]
  },
  {
   "cell_type": "code",
   "execution_count": 15,
   "id": "0605eaa8",
   "metadata": {},
   "outputs": [
    {
     "data": {
      "text/plain": [
       "20"
      ]
     },
     "execution_count": 15,
     "metadata": {},
     "output_type": "execute_result"
    }
   ],
   "source": [
    "_a = 20\n",
    "_a"
   ]
  },
  {
   "cell_type": "markdown",
   "id": "67c63f90",
   "metadata": {},
   "source": [
    "## Conditional Statements:\n",
    "    - To Check whether a given condition is either True or False\n",
    "    - if => single cases\n",
    "    - if-else => Two cases\n",
    "    - nested if => 3 or more cases\n",
    "    - elif => 3 or more n number of cases"
   ]
  },
  {
   "cell_type": "markdown",
   "id": "1fd92546",
   "metadata": {},
   "source": [
    "## If:\n",
    "    Syntax:\n",
    "    () => optional\n",
    "        if condition:\n",
    "            //stmnts"
   ]
  },
  {
   "cell_type": "code",
   "execution_count": 23,
   "id": "c51fa8d5",
   "metadata": {},
   "outputs": [
    {
     "name": "stdout",
     "output_type": "stream",
     "text": [
      "Enter a number to Fix: 20\n",
      "Enter a number to Check: 20\n",
      "Given number 20 is Equal to 20\n"
     ]
    }
   ],
   "source": [
    "n = int(input(\"Enter a number to Fix: \"))\n",
    "b = int(input(\"Enter a number to Check: \"))\n",
    "if n == b:\n",
    "    print(\"Given number {} is Equal to {}\".format(n,b))"
   ]
  },
  {
   "cell_type": "markdown",
   "id": "539805f5",
   "metadata": {},
   "source": [
    "## if-else:\n",
    "    Syntax:\n",
    "        if condition:\n",
    "            //stmnt-1\n",
    "        else:\n",
    "            //stmnt-2"
   ]
  },
  {
   "cell_type": "code",
   "execution_count": 29,
   "id": "719c434e",
   "metadata": {},
   "outputs": [
    {
     "name": "stdout",
     "output_type": "stream",
     "text": [
      "Enter Your age: 40\n",
      "You are eligible for voting and exceeded with 22 Years\n"
     ]
    }
   ],
   "source": [
    "n = int(input(\"Enter Your age: \"))\n",
    "if n > 18:\n",
    "    print(\"You are eligible for voting and exceeded with {} Years\"\n",
    "         .format(n-18))\n",
    "else:\n",
    "    print(\"You are not eligible for voting you need to \"\n",
    "          \"wait for {} Years\".format(18-n))"
   ]
  },
  {
   "cell_type": "markdown",
   "id": "2907c069",
   "metadata": {},
   "source": [
    "## Nested If\n",
    "    Syntax:\n",
    "        if condition-1:\n",
    "            if condition-2:\n",
    "                //stmnt-1\n",
    "            else:\n",
    "                //stmnt-2\n",
    "        else:\n",
    "            //stmnt-3"
   ]
  },
  {
   "cell_type": "code",
   "execution_count": 32,
   "id": "2549168f",
   "metadata": {},
   "outputs": [
    {
     "name": "stdout",
     "output_type": "stream",
     "text": [
      "Enter Username: sample@gmail.com\n",
      "Enter Password: 0124\n",
      "Welcome User sample@gmail.com!!\n"
     ]
    }
   ],
   "source": [
    "un = input(\"Enter Username: \")\n",
    "pd = input(\"Enter Password: \")\n",
    "if un == \"sample@gmail.com\":\n",
    "    if pd == \"0124\":\n",
    "        print(\"Welcome User {}!!\".format(un))\n",
    "    else:\n",
    "        print(\"Invalid Username {} or password\".format(un))\n",
    "else:\n",
    "    print(\"Invalid Username {} or password\".format(un))"
   ]
  },
  {
   "cell_type": "code",
   "execution_count": 35,
   "id": "53ac01a3",
   "metadata": {},
   "outputs": [
    {
     "name": "stdout",
     "output_type": "stream",
     "text": [
      "=========Register===========\n",
      "Create Username: somu@gmail.com\n",
      "Create Password: 123\n",
      "Username somu@gmail.com Created Successfully\n",
      "=========Login==============\n",
      "Enter Username: somu@gmail.com\n",
      "Enter Password: 123\n",
      "Welcome User somu@gmail.com!!\n"
     ]
    }
   ],
   "source": [
    "print(\"=========Register===========\")\n",
    "s = input(\"Create Username: \")\n",
    "k = input(\"Create Password: \")\n",
    "print(\"Username {} Created Successfully\".format(s))\n",
    "print(\"=========Login==============\")\n",
    "un = input(\"Enter Username: \")\n",
    "pd = input(\"Enter Password: \")\n",
    "if un == s:\n",
    "    if pd == k:\n",
    "        print(\"Welcome User {}!!\".format(un))\n",
    "    else:\n",
    "        print(\"Invalid Username {} or password\".format(un))\n",
    "else:\n",
    "    print(\"Invalid Username {} or password\".format(un))"
   ]
  },
  {
   "cell_type": "code",
   "execution_count": 41,
   "id": "6e6f7541",
   "metadata": {},
   "outputs": [
    {
     "name": "stdout",
     "output_type": "stream",
     "text": [
      "Enter a number: 500\n",
      "Entered Number is: 500 Greater than 200\n"
     ]
    }
   ],
   "source": [
    "n = int(input(\"Enter a number: \"))\n",
    "if n<=500:\n",
    "    if n > 200:\n",
    "        print(\"Entered Number is: {} Greater than 200\".format(n))\n",
    "    else:\n",
    "        print(\"Entered Number is: {} Lesser than 200\".format(n))\n",
    "else:\n",
    "    print(\"Entered Number is: {} Greater than 500\".format(n))"
   ]
  },
  {
   "cell_type": "code",
   "execution_count": 44,
   "id": "df27363b",
   "metadata": {},
   "outputs": [
    {
     "name": "stdout",
     "output_type": "stream",
     "text": [
      "Enter Your mail: sample@gmail.com\n",
      "Enter Password: 124\n",
      "Welcome user sample@gmail.com!!\n"
     ]
    }
   ],
   "source": [
    "e = input(\"Enter Your mail: \")\n",
    "if e == \"sample@gmail.com\":\n",
    "    p = input(\"Enter Password: \")\n",
    "    if p == \"124\":\n",
    "        print(\"Welcome user {}!!\".format(e))\n",
    "    else:\n",
    "        print(\"Invalid Password\")\n",
    "else:\n",
    "    print(\"Username {} is invalid\".format(e))"
   ]
  },
  {
   "cell_type": "markdown",
   "id": "1a92e923",
   "metadata": {},
   "source": [
    "## Elif:\n",
    "    Syntax:\n",
    "        if condition-1:\n",
    "            //stmnt-1\n",
    "        elif condition-2:\n",
    "            //stmnt-2\n",
    "        elif condition-3:\n",
    "            //stmnt-3\n",
    "            |       |\n",
    "        elif condition-n:\n",
    "            //stmnt-n\n",
    "        else:\n",
    "            stmnt-(n-1)"
   ]
  },
  {
   "cell_type": "code",
   "execution_count": 51,
   "id": "9de1b232",
   "metadata": {},
   "outputs": [
    {
     "name": "stdout",
     "output_type": "stream",
     "text": [
      "Enter a number: 502\n",
      "Given number is: 502 Odd\n"
     ]
    }
   ],
   "source": [
    "n = int(input(\"Enter a number: \"))\n",
    "if (n%5==0) and (n>4 and n<20):\n",
    "    print(\"Given number is: {} Divisible by 5\".format(n))\n",
    "elif (n%2==0) and (n>1 and n<200):\n",
    "    print(\"Given number is: {} Even\".format(n))\n",
    "elif n%5==0:\n",
    "    print(\"Given number is: {} Divisible by 5 and between range of\"\n",
    "         \" 200 to n number\".format(n))\n",
    "else:\n",
    "    print(\"Given number is: {} Odd\".format(n))"
   ]
  },
  {
   "cell_type": "code",
   "execution_count": null,
   "id": "724ea152",
   "metadata": {},
   "outputs": [],
   "source": []
  }
 ],
 "metadata": {
  "kernelspec": {
   "display_name": "Python 3",
   "language": "python",
   "name": "python3"
  },
  "language_info": {
   "codemirror_mode": {
    "name": "ipython",
    "version": 3
   },
   "file_extension": ".py",
   "mimetype": "text/x-python",
   "name": "python",
   "nbconvert_exporter": "python",
   "pygments_lexer": "ipython3",
   "version": "3.7.5"
  }
 },
 "nbformat": 4,
 "nbformat_minor": 5
}
