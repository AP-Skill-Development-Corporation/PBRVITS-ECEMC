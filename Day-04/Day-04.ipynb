{
 "cells": [
  {
   "cell_type": "markdown",
   "id": "2379546c",
   "metadata": {},
   "source": [
    "## Control Statements:\n",
    "    - To Control the flow of execution\n",
    "    "
   ]
  },
  {
   "cell_type": "markdown",
   "id": "4986e6df",
   "metadata": {},
   "source": [
    "## Loops,Repitions and Iterations:\n",
    "    - for => for known ranges\n",
    "    - while => for both known and unknown ranges"
   ]
  },
  {
   "cell_type": "markdown",
   "id": "5dec1e2c",
   "metadata": {},
   "source": [
    "## for\n",
    "     Syntax:\n",
    "       for iterationvariablename in range(start,stop,step):\n",
    "           //stmnts\n",
    "                or\n",
    "       for iterationvariablename in iterator:\n",
    "            //stmnts"
   ]
  },
  {
   "cell_type": "markdown",
   "id": "6e395ab5",
   "metadata": {},
   "source": [
    "## range method:\n",
    "    - range(end)\n",
    "        - By default it starts with 0\n",
    "        - By default it increments with 1\n",
    "        - It stops with end-1\n",
    "        - ex:\n",
    "            range(8):\n",
    "            0 1 2 3 4 5 6 7\n",
    "    - range(start,end)\n",
    "        - It starts with exactly start value\n",
    "        - By default it increments with 1\n",
    "        - It stops with end-1\n",
    "        - ex:\n",
    "            range(20,25):\n",
    "            20 21 22 23 24\n",
    "    - range(start,end,step)\n",
    "        - It starts with exactly start value\n",
    "        - It stops with end-1\n",
    "        - It increment/decrement with step value\n",
    "        - ex:\n",
    "            range(10,20,5):\n",
    "            10 15"
   ]
  },
  {
   "cell_type": "code",
   "execution_count": 23,
   "id": "096b1b07",
   "metadata": {},
   "outputs": [
    {
     "name": "stdout",
     "output_type": "stream",
     "text": [
      "Enter a range: 10\n",
      "1 2 3 4 5 6 7 8 9 10 "
     ]
    }
   ],
   "source": [
    "n = int(input(\"Enter a range: \"))\n",
    "for i in range(n):\n",
    "    print(i+1,end=\" \")"
   ]
  },
  {
   "cell_type": "code",
   "execution_count": 21,
   "id": "8dee31e0",
   "metadata": {},
   "outputs": [
    {
     "data": {
      "text/plain": [
       "32"
      ]
     },
     "execution_count": 21,
     "metadata": {},
     "output_type": "execute_result"
    }
   ],
   "source": [
    "ord(' ')"
   ]
  },
  {
   "cell_type": "code",
   "execution_count": 20,
   "id": "0d15afcb",
   "metadata": {},
   "outputs": [
    {
     "data": {
      "text/plain": [
       "' '"
      ]
     },
     "execution_count": 20,
     "metadata": {},
     "output_type": "execute_result"
    }
   ],
   "source": [
    "chr(32)"
   ]
  },
  {
   "cell_type": "code",
   "execution_count": 24,
   "id": "1227469b",
   "metadata": {},
   "outputs": [
    {
     "name": "stdout",
     "output_type": "stream",
     "text": [
      "Enter a range: 10\n",
      "10 9 8 7 6 5 4 3 2 1 "
     ]
    }
   ],
   "source": [
    "n = int(input(\"Enter a range: \"))\n",
    "for i in range(n):\n",
    "    print(n-i,end=\" \")"
   ]
  },
  {
   "cell_type": "code",
   "execution_count": 28,
   "id": "2537ada9",
   "metadata": {},
   "outputs": [
    {
     "name": "stdout",
     "output_type": "stream",
     "text": [
      "Enter Starting range: 15\n",
      "Enter Ending range: 20\n",
      "20 19 18 17 16 "
     ]
    }
   ],
   "source": [
    "n = int(input(\"Enter Starting range: \"))\n",
    "m = int(input(\"Enter Ending range: \"))\n",
    "for j in range(n,m):\n",
    "    print(m-j+n,end=\" \")"
   ]
  },
  {
   "cell_type": "code",
   "execution_count": 35,
   "id": "d0826637",
   "metadata": {},
   "outputs": [
    {
     "name": "stdout",
     "output_type": "stream",
     "text": [
      "Enter Starting range: 10\n",
      "Enter Ending range: 20\n",
      "Enter Stepping range: -3\n"
     ]
    }
   ],
   "source": [
    "n = int(input(\"Enter Starting range: \"))\n",
    "m = int(input(\"Enter Ending range: \"))\n",
    "k = int(input(\"Enter Stepping range: \"))\n",
    "for j in range(n,m,k):\n",
    "    print(j,end=\" \")"
   ]
  },
  {
   "cell_type": "markdown",
   "id": "50bb422a",
   "metadata": {},
   "source": [
    "```\n",
    "Input-1:\n",
    "    4\n",
    "    12\n",
    "    5\n",
    "    48\n",
    "    6\n",
    "Output-1:\n",
    "     Given numbers sum is: ?\n",
    "     Even numbers sum is: ?\n",
    "     Odd numbers sum is:?\n",
    "Input-2:\n",
    "    3\n",
    "    1\n",
    "    20\n",
    "    4\n",
    "Output-1:\n",
    "     Given numbers sum is: ?\n",
    "     Even numbers sum is: ?\n",
    "     Odd numbers sum is:?\n",
    "```"
   ]
  },
  {
   "cell_type": "code",
   "execution_count": 37,
   "id": "eccbc27b",
   "metadata": {},
   "outputs": [
    {
     "name": "stdout",
     "output_type": "stream",
     "text": [
      "3\n",
      "1\n",
      "20\n",
      "4\n",
      "Given numbers sum is: 25\n",
      "Even numbers sum is: 24\n",
      "Odd numbers sum is: 1\n"
     ]
    }
   ],
   "source": [
    "n = int(input())\n",
    "v,es,os = 0,0,0\n",
    "for j in range(n):\n",
    "    k = int(input())\n",
    "    v +=k\n",
    "    if k%2==0:\n",
    "        es+=k\n",
    "    else:\n",
    "        os+=k\n",
    "print(\"Given numbers sum is: {}\".format(v))\n",
    "print(\"Even numbers sum is: {}\".format(es))\n",
    "print(\"Odd numbers sum is: {}\".format(os))"
   ]
  },
  {
   "cell_type": "markdown",
   "id": "c023d6ab",
   "metadata": {},
   "source": [
    "## While\n",
    "    Syntax:\n",
    "        initialization\n",
    "        while condition:\n",
    "            //stmnts\n",
    "            incr/decr"
   ]
  },
  {
   "cell_type": "code",
   "execution_count": 42,
   "id": "367f96ce",
   "metadata": {},
   "outputs": [
    {
     "name": "stdout",
     "output_type": "stream",
     "text": [
      "Enter a range: 10\n",
      "1 2 3 4 5 6 7 8 9 10\n"
     ]
    }
   ],
   "source": [
    "n = int(input(\"Enter a range: \"))\n",
    "i = 1\n",
    "while n!=i:\n",
    "    print(i,end=\" \")\n",
    "    i+=1\n"
   ]
  },
  {
   "cell_type": "code",
   "execution_count": 45,
   "id": "8797ed79",
   "metadata": {},
   "outputs": [
    {
     "name": "stdout",
     "output_type": "stream",
     "text": [
      "Enter a range: 10\n",
      "1 2 3 4 5 6 7 8 9 "
     ]
    }
   ],
   "source": [
    "n = int(input(\"Enter a range: \"))\n",
    "i = 1\n",
    "while n>i:\n",
    "    print(i,end=\" \")\n",
    "    i+=1"
   ]
  },
  {
   "cell_type": "code",
   "execution_count": 49,
   "id": "3ff4198a",
   "metadata": {},
   "outputs": [
    {
     "name": "stdout",
     "output_type": "stream",
     "text": [
      "Enter a range: 10\n",
      "10 9 8 7 6 5 4 3 2 1 "
     ]
    }
   ],
   "source": [
    "m = int(input(\"Enter a range: \"))\n",
    "while m!=0:\n",
    "    print(m,end=\" \")\n",
    "    m -=1"
   ]
  },
  {
   "cell_type": "code",
   "execution_count": 52,
   "id": "19dc9496",
   "metadata": {},
   "outputs": [
    {
     "name": "stdout",
     "output_type": "stream",
     "text": [
      "Enter starting range: 10\n",
      "Enter ending range: 5\n",
      "10 9 8 7 6 5 "
     ]
    }
   ],
   "source": [
    "m = int(input(\"Enter starting range: \"))\n",
    "k = int(input(\"Enter ending range: \"))\n",
    "while m>=k:\n",
    "    print(m,end=\" \")\n",
    "    m -=1"
   ]
  },
  {
   "cell_type": "code",
   "execution_count": 1,
   "id": "9ba21b37",
   "metadata": {},
   "outputs": [
    {
     "name": "stdout",
     "output_type": "stream",
     "text": [
      "Enter a range: 10\n",
      "10 9 8 7 6 5 4 3 2 1 "
     ]
    }
   ],
   "source": [
    "m = int(input(\"Enter a range: \"))\n",
    "while m!=0:\n",
    "    print(m,end=\" \")\n",
    "    m -=1"
   ]
  },
  {
   "cell_type": "code",
   "execution_count": 7,
   "id": "ec650cac",
   "metadata": {},
   "outputs": [
    {
     "name": "stdout",
     "output_type": "stream",
     "text": [
      "554\n",
      "Given value is 554 and its reverse is: 455\n"
     ]
    }
   ],
   "source": [
    "n = int(input())\n",
    "r = 0\n",
    "print(\"Given value is {} and its\".format(n),end=\" \")\n",
    "while n!=0:\n",
    "    r = r * 10 + n%10 \n",
    "    n //= 10 \n",
    "print(\"reverse is: {}\".format(r))"
   ]
  },
  {
   "cell_type": "code",
   "execution_count": 2,
   "id": "7182541f",
   "metadata": {},
   "outputs": [
    {
     "data": {
      "text/plain": [
       "1121"
      ]
     },
     "execution_count": 2,
     "metadata": {},
     "output_type": "execute_result"
    }
   ],
   "source": [
    "1245-124"
   ]
  },
  {
   "cell_type": "markdown",
   "id": "1cf605f2",
   "metadata": {},
   "source": [
    "## Jumping Statements:\n",
    "    - break => It exits from a loop\n",
    "    - continue => It skips a value from a loop\n",
    "    - pass => It works like continue and for future enhancements \n",
    "    - return => It return single value or iterator"
   ]
  },
  {
   "cell_type": "code",
   "execution_count": 8,
   "id": "f8700fb4",
   "metadata": {},
   "outputs": [
    {
     "name": "stdout",
     "output_type": "stream",
     "text": [
      "100\n",
      "0 1 2 3 4 5 6 7 8 9 10 11 12 13 14 15 16 17 18 19 "
     ]
    }
   ],
   "source": [
    "n = int(input())\n",
    "for j in range(n):\n",
    "    if j == 20:\n",
    "        break\n",
    "    else:\n",
    "        print(j,end=\" \")"
   ]
  },
  {
   "cell_type": "code",
   "execution_count": 11,
   "id": "b49a1155",
   "metadata": {},
   "outputs": [
    {
     "name": "stdout",
     "output_type": "stream",
     "text": [
      "10\n",
      "0 2 4 6 8 "
     ]
    }
   ],
   "source": [
    "n = int(input())\n",
    "for j in range(n):\n",
    "    if j%2!=0:\n",
    "        continue\n",
    "    else:\n",
    "        print(j,end=\" \")"
   ]
  },
  {
   "cell_type": "code",
   "execution_count": 13,
   "id": "3c8d99e2",
   "metadata": {},
   "outputs": [
    {
     "name": "stdout",
     "output_type": "stream",
     "text": [
      "30\n",
      "0 1 2 3 4 5 6 7 8 9 10 11 12 13 14 15 16 17 18 19 21 22 23 24 25 26 27 28 29 "
     ]
    }
   ],
   "source": [
    "n = int(input())\n",
    "for j in range(n):\n",
    "    if j == 20:\n",
    "        pass\n",
    "    else:\n",
    "        print(j,end=\" \")"
   ]
  },
  {
   "cell_type": "code",
   "execution_count": 2,
   "id": "1bee4243",
   "metadata": {},
   "outputs": [
    {
     "name": "stdout",
     "output_type": "stream",
     "text": [
      "5\n",
      "Not a value\n",
      "8\n",
      "Not a value\n",
      "1\n",
      "Entered Number is: 1\n",
      "1\n",
      "Entered Number is: 1\n",
      "0\n"
     ]
    }
   ],
   "source": [
    "while True:\n",
    "    g = int(input())\n",
    "    if g == 1:\n",
    "        print(\"Entered Number is: {}\".format(g))\n",
    "    elif g == 0:\n",
    "        break\n",
    "    else:\n",
    "        print(\"Not a value\")"
   ]
  },
  {
   "cell_type": "code",
   "execution_count": null,
   "id": "0341a5af",
   "metadata": {},
   "outputs": [],
   "source": []
  }
 ],
 "metadata": {
  "kernelspec": {
   "display_name": "Python 3",
   "language": "python",
   "name": "python3"
  },
  "language_info": {
   "codemirror_mode": {
    "name": "ipython",
    "version": 3
   },
   "file_extension": ".py",
   "mimetype": "text/x-python",
   "name": "python",
   "nbconvert_exporter": "python",
   "pygments_lexer": "ipython3",
   "version": "3.7.5"
  }
 },
 "nbformat": 4,
 "nbformat_minor": 5
}
