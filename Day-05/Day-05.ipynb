{
 "cells": [
  {
   "cell_type": "markdown",
   "id": "5a8d3110",
   "metadata": {},
   "source": [
    "## Nested Loop:\n",
    "    - Loop within a loop"
   ]
  },
  {
   "cell_type": "code",
   "execution_count": 18,
   "id": "2845de54",
   "metadata": {},
   "outputs": [
    {
     "name": "stdout",
     "output_type": "stream",
     "text": [
      "Enter row size: 5\n",
      "Enter Column size: 8\n",
      "A0 A1 A2 A3 A4 A5 A6 A7 \n",
      "B0 B1 B2 B3 B4 B5 B6 B7 \n",
      "C0 C1 C2 C3 C4 C5 C6 C7 \n",
      "D0 D1 D2 D3 D4 D5 D6 D7 \n",
      "E0 E1 E2 E3 E4 E5 E6 E7 \n"
     ]
    }
   ],
   "source": [
    "n = int(input(\"Enter row size: \"))\n",
    "m = int(input(\"Enter Column size: \"))\n",
    "for i in range(n):\n",
    "    for j in range(m):\n",
    "        print(\"{}{}\".format(chr(65+i),j),end=\" \")\n",
    "    print()"
   ]
  },
  {
   "cell_type": "code",
   "execution_count": 7,
   "id": "b459d178",
   "metadata": {},
   "outputs": [
    {
     "data": {
      "text/plain": [
       "'A'"
      ]
     },
     "execution_count": 7,
     "metadata": {},
     "output_type": "execute_result"
    }
   ],
   "source": [
    "chr(65)"
   ]
  },
  {
   "cell_type": "code",
   "execution_count": 8,
   "id": "fecb07b3",
   "metadata": {},
   "outputs": [
    {
     "data": {
      "text/plain": [
       "65"
      ]
     },
     "execution_count": 8,
     "metadata": {},
     "output_type": "execute_result"
    }
   ],
   "source": [
    "ord('A')"
   ]
  },
  {
   "cell_type": "code",
   "execution_count": 19,
   "id": "6c702e4d",
   "metadata": {},
   "outputs": [
    {
     "name": "stdout",
     "output_type": "stream",
     "text": [
      "Enter a range: 5\n",
      "* * * * * \n",
      "* * * * * \n",
      "* * * * * \n",
      "* * * * * \n",
      "* * * * * \n"
     ]
    }
   ],
   "source": [
    "n = int(input(\"Enter a range: \"))\n",
    "for i in range(n):\n",
    "    for j in range(n):\n",
    "        print(\"*\",end=\" \")\n",
    "    print()"
   ]
  },
  {
   "cell_type": "code",
   "execution_count": 20,
   "id": "4e64bf87",
   "metadata": {},
   "outputs": [
    {
     "name": "stdout",
     "output_type": "stream",
     "text": [
      "Enter a range: 5\n",
      "* \n",
      "* * \n",
      "* * * \n",
      "* * * * \n",
      "* * * * * \n"
     ]
    }
   ],
   "source": [
    "n = int(input(\"Enter a range: \"))\n",
    "for i in range(n):\n",
    "    for j in range(i+1):\n",
    "        print(\"*\",end=\" \")\n",
    "    print()"
   ]
  },
  {
   "cell_type": "code",
   "execution_count": 32,
   "id": "2a1e017f",
   "metadata": {},
   "outputs": [
    {
     "name": "stdout",
     "output_type": "stream",
     "text": [
      "Enter a range: 5\n",
      "* * * * * \n",
      "* 1 2 3 * \n",
      "* 4 5 6 * \n",
      "* 7 8 9 * \n",
      "* * * * * \n"
     ]
    }
   ],
   "source": [
    "n = int(input(\"Enter a range: \"))\n",
    "p = 1\n",
    "for i in range(n):\n",
    "    for j in range(n):\n",
    "        if (i==0 or j==0) or (i==n-1 or j==n-1):\n",
    "            print(\"*\",end=\" \")\n",
    "        else:\n",
    "            print(p,end=\" \")\n",
    "            p+=1\n",
    "    print()"
   ]
  },
  {
   "cell_type": "code",
   "execution_count": 37,
   "id": "f6fb0692",
   "metadata": {},
   "outputs": [
    {
     "name": "stdout",
     "output_type": "stream",
     "text": [
      "enter class range: 2\n",
      "enter members range: 3\n",
      "Enter a number: 45\n",
      "Enter a number: 78\n",
      "Enter a number: 3\n",
      "\n",
      "Enter a number: 12\n",
      "Enter a number: 6\n",
      "Enter a number: 3\n",
      "\n",
      "Even numbers count is: 3\n",
      "Odd numbers count is: 3\n"
     ]
    }
   ],
   "source": [
    "n = int(input(\"enter class range: \"))\n",
    "t = int(input(\"enter members range: \"))\n",
    "ec,oc=0,0\n",
    "for i in range(n):\n",
    "    for j in range(t):\n",
    "        k = int(input(\"Enter a number: \"))\n",
    "        if k%2==0:\n",
    "            ec +=1\n",
    "        else:\n",
    "            oc+=1\n",
    "    print()\n",
    "print(\"Even numbers count is: {}\".format(ec))\n",
    "print(\"Odd numbers count is: {}\".format(oc))"
   ]
  },
  {
   "cell_type": "markdown",
   "id": "42d29a79",
   "metadata": {},
   "source": [
    "## Functions and its types:\n",
    "    - To perform a specific Task\n",
    "    - 2 types\n",
    "        - builtin functions => work is fixed \n",
    "        - user defined functions => user has to decide a work\n",
    "    - Syntax:\n",
    "        def functioname(arguments):\n",
    "            //stmnts\n",
    "            return return_value"
   ]
  },
  {
   "cell_type": "markdown",
   "id": "00f29b57",
   "metadata": {},
   "source": [
    "## User Defined Functions:\n",
    "    - 4 types\n",
    "        - with returntype and with arguments\n",
    "        - with returntype and without arguments\n",
    "        - without returntype and with arguments\n",
    "        - without returntype and without arguments"
   ]
  },
  {
   "cell_type": "code",
   "execution_count": 43,
   "id": "73400918",
   "metadata": {},
   "outputs": [
    {
     "name": "stdout",
     "output_type": "stream",
     "text": [
      "Enter a number: 10\n",
      "Sum of 10 range is: 55\n"
     ]
    }
   ],
   "source": [
    "# with returntype and with arguments\n",
    "# Reading => Main\n",
    "# Printing => Main\n",
    "# Logic => Function\n",
    "def pn(k):\n",
    "    s = 0\n",
    "    for i in range(k+1):\n",
    "        s+=i\n",
    "    return s\n",
    "\n",
    "n = int(input(\"Enter a number: \"))\n",
    "print(\"Sum of {} range is: {}\".format(n,pn(n)))"
   ]
  },
  {
   "cell_type": "code",
   "execution_count": 44,
   "id": "9366285f",
   "metadata": {},
   "outputs": [
    {
     "name": "stdout",
     "output_type": "stream",
     "text": [
      "Enter a number: 10\n",
      "Sum of 10 range is: 55\n"
     ]
    }
   ],
   "source": [
    "# with returntype and without arguments\n",
    "# Reading => Function\n",
    "# Printing => Main\n",
    "# Logic => Function\n",
    "def pn():\n",
    "    s = 0\n",
    "    n = int(input(\"Enter a number: \"))\n",
    "    print(\"Sum of {}\".format(n),end=\" \")\n",
    "    for i in range(n+1):\n",
    "        s+=i\n",
    "    return s\n",
    "\n",
    "print(\"range is: {}\".format(pn()))"
   ]
  },
  {
   "cell_type": "code",
   "execution_count": 55,
   "id": "6337b80c",
   "metadata": {},
   "outputs": [
    {
     "name": "stdout",
     "output_type": "stream",
     "text": [
      "Enter a number: 10\n",
      "Sum of 10 range is: 55\n",
      "None\n"
     ]
    }
   ],
   "source": [
    "# without returntype and with arguments\n",
    "# Reading => Main\n",
    "# Printing => Function\n",
    "# Logic => Function\n",
    "def pn(k):\n",
    "    s = 0\n",
    "    for i in range(k+1):\n",
    "        s+=i\n",
    "    print(\"Sum of {} range is: {}\".format(k,s))\n",
    "    return \n",
    "\n",
    "n = int(input(\"Enter a number: \"))\n",
    "print(pn(n))"
   ]
  },
  {
   "cell_type": "code",
   "execution_count": 46,
   "id": "062232a5",
   "metadata": {},
   "outputs": [
    {
     "name": "stdout",
     "output_type": "stream",
     "text": [
      "Enter a number: 15\n",
      "Sum of 15 range is: 120\n"
     ]
    }
   ],
   "source": [
    "# without returntype and without arguments\n",
    "# Reading => Function\n",
    "# Printing => Function\n",
    "# Logic => Function\n",
    "def pn():\n",
    "    s = 0\n",
    "    n = int(input(\"Enter a number: \"))\n",
    "    for i in range(n+1):\n",
    "        s+=i\n",
    "    print(\"Sum of {} range is: {}\".format(n,s))\n",
    "    return \n",
    "\n",
    "pn()"
   ]
  },
  {
   "cell_type": "code",
   "execution_count": 54,
   "id": "8508b057",
   "metadata": {},
   "outputs": [
    {
     "name": "stdout",
     "output_type": "stream",
     "text": [
      "11\n",
      "120\n",
      "10\n",
      "52.0\n",
      "3\n"
     ]
    }
   ],
   "source": [
    "import math\n",
    "print(math.ceil(10.25))\n",
    "print(math.factorial(5))\n",
    "print(math.floor(10.25))\n",
    "print(math.fabs(-52))\n",
    "print(math.gcd(42,3))"
   ]
  },
  {
   "cell_type": "markdown",
   "id": "965f732e",
   "metadata": {},
   "source": [
    "## Functions argument and its types:\n",
    "    - Required or positional argument\n",
    "    - Default argument\n",
    "    - Keyword argument and \n",
    "    - Variable-Length argument"
   ]
  },
  {
   "cell_type": "code",
   "execution_count": 57,
   "id": "dac66db3",
   "metadata": {},
   "outputs": [
    {
     "name": "stdout",
     "output_type": "stream",
     "text": [
      "Enter a name: narendra\n"
     ]
    },
    {
     "ename": "TypeError",
     "evalue": "prtna() missing 1 required positional argument: 'm'",
     "output_type": "error",
     "traceback": [
      "\u001b[1;31m-------------------------------------------------------------------------\u001b[0m",
      "\u001b[1;31mTypeError\u001b[0m                               Traceback (most recent call last)",
      "\u001b[1;32m<ipython-input-57-6427a8f887d0>\u001b[0m in \u001b[0;36m<module>\u001b[1;34m\u001b[0m\n\u001b[0;32m      5\u001b[0m \u001b[1;33m\u001b[0m\u001b[0m\n\u001b[0;32m      6\u001b[0m \u001b[0mna\u001b[0m \u001b[1;33m=\u001b[0m \u001b[0minput\u001b[0m\u001b[1;33m(\u001b[0m\u001b[1;34m\"Enter a name: \"\u001b[0m\u001b[1;33m)\u001b[0m\u001b[1;33m\u001b[0m\u001b[1;33m\u001b[0m\u001b[0m\n\u001b[1;32m----> 7\u001b[1;33m \u001b[0mprtna\u001b[0m\u001b[1;33m(\u001b[0m\u001b[0mna\u001b[0m\u001b[1;33m)\u001b[0m\u001b[1;33m\u001b[0m\u001b[1;33m\u001b[0m\u001b[0m\n\u001b[0m",
      "\u001b[1;31mTypeError\u001b[0m: prtna() missing 1 required positional argument: 'm'"
     ]
    }
   ],
   "source": [
    "# Required argument or positional argument\n",
    "def prtna(k,m):\n",
    "    print(\"Entered name is: {}\".format(k))\n",
    "    return\n",
    "\n",
    "na = input(\"Enter a name: \")\n",
    "prtna(na)"
   ]
  },
  {
   "cell_type": "code",
   "execution_count": 62,
   "id": "9fe3e06e",
   "metadata": {},
   "outputs": [
    {
     "ename": "SyntaxError",
     "evalue": "non-default argument follows default argument (<ipython-input-62-43cecdffdf6a>, line 2)",
     "output_type": "error",
     "traceback": [
      "\u001b[1;36m  File \u001b[1;32m\"<ipython-input-62-43cecdffdf6a>\"\u001b[1;36m, line \u001b[1;32m2\u001b[0m\n\u001b[1;33m    def prtna(m='suresh',k):\u001b[0m\n\u001b[1;37m             ^\u001b[0m\n\u001b[1;31mSyntaxError\u001b[0m\u001b[1;31m:\u001b[0m non-default argument follows default argument\n"
     ]
    }
   ],
   "source": [
    "# Default argument\n",
    "def prtna(m='suresh',k):\n",
    "    print(\"Entered name is: {} and age is: {}\".format(m,k))\n",
    "    return\n",
    "\n",
    "na = input(\"Enter a name: \")\n",
    "prtna(na)"
   ]
  },
  {
   "cell_type": "code",
   "execution_count": 72,
   "id": "1c25d7ab",
   "metadata": {},
   "outputs": [
    {
     "name": "stdout",
     "output_type": "stream",
     "text": [
      "Entered name is: prasad and age is: 96 and sal is: 12000\n"
     ]
    }
   ],
   "source": [
    "# Keyword argument\n",
    "def prtna(m,k,sal=3500):\n",
    "    print(\"Entered name is: {} and age is: {} and sal is: {}\"\n",
    "          .format(m,k,sal))\n",
    "    return\n",
    "\n",
    "# m = input(\"Enter a name: \")\n",
    "# prtna(k,m)\n",
    "prtna(m='prasad',sal=12000,k=96)"
   ]
  },
  {
   "cell_type": "code",
   "execution_count": 73,
   "id": "93723cf4",
   "metadata": {},
   "outputs": [
    {
     "name": "stdout",
     "output_type": "stream",
     "text": [
      "{'na': 'suresh', 'sal': 50000, 'age': 25} <class 'dict'>\n"
     ]
    }
   ],
   "source": [
    "def prtna(**y):\n",
    "    print(y,type(y))\n",
    "    return\n",
    "\n",
    "prtna(na='suresh',sal=50000,age=25)"
   ]
  },
  {
   "cell_type": "markdown",
   "id": "7e27d400",
   "metadata": {},
   "source": [
    "## Variable Length argument:"
   ]
  },
  {
   "cell_type": "code",
   "execution_count": 80,
   "id": "3472ecae",
   "metadata": {},
   "outputs": [
    {
     "name": "stdout",
     "output_type": "stream",
     "text": [
      "2 <class 'int'>\n",
      "(45, 78, 89, 45, 78, 65, 12) <class 'tuple'>\n",
      "{'t': 45, 'ed': 78, 'n': 'prasad'} <class 'dict'>\n"
     ]
    }
   ],
   "source": [
    "def pt(y,*k,**q):\n",
    "    print(y,type(y))\n",
    "    print(k,type(k))\n",
    "    print(q,type(q))\n",
    "    return\n",
    "\n",
    "pt(2,45,78,89,45,78,65,12,t=45,ed=78,n='prasad')"
   ]
  },
  {
   "cell_type": "code",
   "execution_count": null,
   "id": "7ff31c0d",
   "metadata": {},
   "outputs": [],
   "source": []
  }
 ],
 "metadata": {
  "kernelspec": {
   "display_name": "Python 3",
   "language": "python",
   "name": "python3"
  },
  "language_info": {
   "codemirror_mode": {
    "name": "ipython",
    "version": 3
   },
   "file_extension": ".py",
   "mimetype": "text/x-python",
   "name": "python",
   "nbconvert_exporter": "python",
   "pygments_lexer": "ipython3",
   "version": "3.7.5"
  }
 },
 "nbformat": 4,
 "nbformat_minor": 5
}
