{
 "cells": [
  {
   "cell_type": "markdown",
   "id": "864f08e5",
   "metadata": {},
   "source": [
    "## Data Structures:\n",
    "    - To organize the data in order or unorder format\n",
    "    - list\n",
    "    - tuple\n",
    "    - set\n",
    "    - dictionary\n",
    "    - string"
   ]
  },
  {
   "cell_type": "code",
   "execution_count": 3,
   "id": "4bd1a8d2",
   "metadata": {},
   "outputs": [
    {
     "name": "stdout",
     "output_type": "stream",
     "text": [
      "<class 'int'>\n"
     ]
    }
   ],
   "source": [
    "a = 25\n",
    "print(type(a))"
   ]
  },
  {
   "cell_type": "markdown",
   "id": "e5dcb376",
   "metadata": {},
   "source": [
    "# List:\n",
    "    - It can be represented as \"[]\"\n",
    "    - It can stores the data in ordered format\n",
    "    - Slicing can be done becuase of index values\n",
    "    - It can changes the data\n",
    "    - Duplicate values can be allowed\n",
    "    - It can be typecasted as list()"
   ]
  },
  {
   "cell_type": "code",
   "execution_count": 4,
   "id": "69edd3b5",
   "metadata": {},
   "outputs": [
    {
     "name": "stdout",
     "output_type": "stream",
     "text": [
      "[12, 45.0, 'tilak', False, '78.00'] <class 'list'>\n"
     ]
    }
   ],
   "source": [
    "t = [12,45.00,'tilak',False,'78.00']\n",
    "print(t,type(t))"
   ]
  },
  {
   "cell_type": "code",
   "execution_count": 7,
   "id": "78dcf18a",
   "metadata": {},
   "outputs": [
    {
     "name": "stdout",
     "output_type": "stream",
     "text": [
      "tilak\n"
     ]
    },
    {
     "ename": "IndexError",
     "evalue": "list index out of range",
     "output_type": "error",
     "traceback": [
      "\u001b[1;31m-------------------------------------------------------------------------\u001b[0m",
      "\u001b[1;31mIndexError\u001b[0m                              Traceback (most recent call last)",
      "\u001b[1;32m<ipython-input-7-031f313b54c9>\u001b[0m in \u001b[0;36m<module>\u001b[1;34m\u001b[0m\n\u001b[0;32m      1\u001b[0m \u001b[0mprint\u001b[0m\u001b[1;33m(\u001b[0m\u001b[0mt\u001b[0m\u001b[1;33m[\u001b[0m\u001b[1;36m2\u001b[0m\u001b[1;33m]\u001b[0m\u001b[1;33m)\u001b[0m\u001b[1;33m\u001b[0m\u001b[1;33m\u001b[0m\u001b[0m\n\u001b[1;32m----> 2\u001b[1;33m \u001b[0mprint\u001b[0m\u001b[1;33m(\u001b[0m\u001b[0mt\u001b[0m\u001b[1;33m[\u001b[0m\u001b[1;36m5\u001b[0m\u001b[1;33m]\u001b[0m\u001b[1;33m)\u001b[0m\u001b[1;33m\u001b[0m\u001b[1;33m\u001b[0m\u001b[0m\n\u001b[0m",
      "\u001b[1;31mIndexError\u001b[0m: list index out of range"
     ]
    }
   ],
   "source": [
    "print(t[2])\n",
    "print(t[5])"
   ]
  },
  {
   "cell_type": "code",
   "execution_count": 17,
   "id": "a01b7ca8",
   "metadata": {},
   "outputs": [
    {
     "name": "stdout",
     "output_type": "stream",
     "text": [
      "[12, 45.0, 'tilak', False, '78.00']\n",
      "tilak\n",
      "[12, 45.0, 'tilak', False, '78.00']\n",
      "[12, 45.0, 'tilak', False, '78.00']\n",
      "[False, '78.00']\n",
      "[12, 45.0]\n",
      "[False, '78.00']\n",
      "[12, 45.0]\n",
      "[45.0, 'tilak', False]\n",
      "[]\n"
     ]
    }
   ],
   "source": [
    "print(t)\n",
    "print(t[-3])\n",
    "print(t[:])\n",
    "print(t[::])\n",
    "print(t[3:])\n",
    "print(t[:2])\n",
    "print(t[-2:])\n",
    "print(t[:-3])\n",
    "print(t[1:4])\n",
    "print(t[2:-4])"
   ]
  },
  {
   "cell_type": "code",
   "execution_count": 47,
   "id": "194879a6",
   "metadata": {},
   "outputs": [
    {
     "name": "stdout",
     "output_type": "stream",
     "text": [
      "[12, 45.0, 'tilak', False, '78.00']\n",
      "['tilak', False]\n",
      "['tilak']\n",
      "['tilak', False, '78.00']\n",
      "[False, '78.00']\n"
     ]
    }
   ],
   "source": [
    "print(t)\n",
    "print(t[-3:4])\n",
    "print(t[-3:-2])\n",
    "print(t[2::])\n",
    "print(t[-2::])\n"
   ]
  },
  {
   "cell_type": "code",
   "execution_count": 52,
   "id": "14378a2e",
   "metadata": {},
   "outputs": [
    {
     "name": "stdout",
     "output_type": "stream",
     "text": [
      "[12, 45.0, 'tilak', False, '78.00']\n",
      "['tilak', False]\n",
      "['tilak']\n",
      "[False]\n",
      "[]\n",
      "[45.0, False]\n",
      "[]\n",
      "[False]\n",
      "[False]\n",
      "[False]\n",
      "['tilak', 45.0, 12]\n",
      "['78.00']\n",
      "[12, 'tilak', '78.00']\n",
      "['78.00', False, 'tilak', 45.0, 12]\n"
     ]
    }
   ],
   "source": [
    "print(t)\n",
    "print(t[2:4:])\n",
    "print(t[2:-2:])\n",
    "print(t[-2:4:])\n",
    "print(t[-2:-3:])\n",
    "print(t[1:4:2])\n",
    "print(t[2:-4:2])\n",
    "print(t[3:-4:-2])\n",
    "print(t[-2:-1:1])\n",
    "print(t[-2:1:-2])\n",
    "print(t[2::-1])\n",
    "print(t[:2:-2])\n",
    "print(t[::2])\n",
    "print(t[::-1])"
   ]
  },
  {
   "cell_type": "code",
   "execution_count": 53,
   "id": "4aef5f59",
   "metadata": {},
   "outputs": [
    {
     "name": "stdout",
     "output_type": "stream",
     "text": [
      "[12, 45.0, 'tilak', False, '78.00']\n"
     ]
    }
   ],
   "source": [
    "print(t)"
   ]
  },
  {
   "cell_type": "code",
   "execution_count": 54,
   "id": "a29e4802",
   "metadata": {
    "collapsed": true
   },
   "outputs": [
    {
     "name": "stdout",
     "output_type": "stream",
     "text": [
      "Help on class list in module builtins:\n",
      "\n",
      "class list(object)\n",
      " |  list(iterable=(), /)\n",
      " |  \n",
      " |  Built-in mutable sequence.\n",
      " |  \n",
      " |  If no argument is given, the constructor creates a new empty list.\n",
      " |  The argument must be an iterable if specified.\n",
      " |  \n",
      " |  Methods defined here:\n",
      " |  \n",
      " |  __add__(self, value, /)\n",
      " |      Return self+value.\n",
      " |  \n",
      " |  __contains__(self, key, /)\n",
      " |      Return key in self.\n",
      " |  \n",
      " |  __delitem__(self, key, /)\n",
      " |      Delete self[key].\n",
      " |  \n",
      " |  __eq__(self, value, /)\n",
      " |      Return self==value.\n",
      " |  \n",
      " |  __ge__(self, value, /)\n",
      " |      Return self>=value.\n",
      " |  \n",
      " |  __getattribute__(self, name, /)\n",
      " |      Return getattr(self, name).\n",
      " |  \n",
      " |  __getitem__(...)\n",
      " |      x.__getitem__(y) <==> x[y]\n",
      " |  \n",
      " |  __gt__(self, value, /)\n",
      " |      Return self>value.\n",
      " |  \n",
      " |  __iadd__(self, value, /)\n",
      " |      Implement self+=value.\n",
      " |  \n",
      " |  __imul__(self, value, /)\n",
      " |      Implement self*=value.\n",
      " |  \n",
      " |  __init__(self, /, *args, **kwargs)\n",
      " |      Initialize self.  See help(type(self)) for accurate signature.\n",
      " |  \n",
      " |  __iter__(self, /)\n",
      " |      Implement iter(self).\n",
      " |  \n",
      " |  __le__(self, value, /)\n",
      " |      Return self<=value.\n",
      " |  \n",
      " |  __len__(self, /)\n",
      " |      Return len(self).\n",
      " |  \n",
      " |  __lt__(self, value, /)\n",
      " |      Return self<value.\n",
      " |  \n",
      " |  __mul__(self, value, /)\n",
      " |      Return self*value.\n",
      " |  \n",
      " |  __ne__(self, value, /)\n",
      " |      Return self!=value.\n",
      " |  \n",
      " |  __repr__(self, /)\n",
      " |      Return repr(self).\n",
      " |  \n",
      " |  __reversed__(self, /)\n",
      " |      Return a reverse iterator over the list.\n",
      " |  \n",
      " |  __rmul__(self, value, /)\n",
      " |      Return value*self.\n",
      " |  \n",
      " |  __setitem__(self, key, value, /)\n",
      " |      Set self[key] to value.\n",
      " |  \n",
      " |  __sizeof__(self, /)\n",
      " |      Return the size of the list in memory, in bytes.\n",
      " |  \n",
      " |  append(self, object, /)\n",
      " |      Append object to the end of the list.\n",
      " |  \n",
      " |  clear(self, /)\n",
      " |      Remove all items from list.\n",
      " |  \n",
      " |  copy(self, /)\n",
      " |      Return a shallow copy of the list.\n",
      " |  \n",
      " |  count(self, value, /)\n",
      " |      Return number of occurrences of value.\n",
      " |  \n",
      " |  extend(self, iterable, /)\n",
      " |      Extend list by appending elements from the iterable.\n",
      " |  \n",
      " |  index(self, value, start=0, stop=9223372036854775807, /)\n",
      " |      Return first index of value.\n",
      " |      \n",
      " |      Raises ValueError if the value is not present.\n",
      " |  \n",
      " |  insert(self, index, object, /)\n",
      " |      Insert object before index.\n",
      " |  \n",
      " |  pop(self, index=-1, /)\n",
      " |      Remove and return item at index (default last).\n",
      " |      \n",
      " |      Raises IndexError if list is empty or index is out of range.\n",
      " |  \n",
      " |  remove(self, value, /)\n",
      " |      Remove first occurrence of value.\n",
      " |      \n",
      " |      Raises ValueError if the value is not present.\n",
      " |  \n",
      " |  reverse(self, /)\n",
      " |      Reverse *IN PLACE*.\n",
      " |  \n",
      " |  sort(self, /, *, key=None, reverse=False)\n",
      " |      Stable sort *IN PLACE*.\n",
      " |  \n",
      " |  ----------------------------------------------------------------------\n",
      " |  Static methods defined here:\n",
      " |  \n",
      " |  __new__(*args, **kwargs) from builtins.type\n",
      " |      Create and return a new object.  See help(type) for accurate signature.\n",
      " |  \n",
      " |  ----------------------------------------------------------------------\n",
      " |  Data and other attributes defined here:\n",
      " |  \n",
      " |  __hash__ = None\n",
      "\n"
     ]
    }
   ],
   "source": [
    "help(list)"
   ]
  },
  {
   "cell_type": "code",
   "execution_count": 62,
   "id": "2c9f5a78",
   "metadata": {},
   "outputs": [
    {
     "name": "stdout",
     "output_type": "stream",
     "text": [
      "['__add__', '__class__', '__contains__', '__delattr__', '__delitem__', '__dir__', '__doc__', '__eq__', '__format__', '__ge__', '__getattribute__', '__getitem__', '__gt__', '__hash__', '__iadd__', '__imul__', '__init__', '__init_subclass__', '__iter__', '__le__', '__len__', '__lt__', '__mul__', '__ne__', '__new__', '__reduce__', '__reduce_ex__', '__repr__', '__reversed__', '__rmul__', '__setattr__', '__setitem__', '__sizeof__', '__str__', '__subclasshook__', 'append', 'clear', 'copy', 'count', 'extend', 'index', 'insert', 'pop', 'remove', 'reverse', 'sort']\n"
     ]
    }
   ],
   "source": [
    "print(dir(list))"
   ]
  },
  {
   "cell_type": "code",
   "execution_count": 63,
   "id": "52947b46",
   "metadata": {},
   "outputs": [
    {
     "name": "stdout",
     "output_type": "stream",
     "text": [
      "[12, 78.022, 'lalitha', False, '12', 12, 45, 12]\n"
     ]
    }
   ],
   "source": [
    "y = [12,78.022,'lalitha',False,'12',12,45,12]\n",
    "print(y)"
   ]
  },
  {
   "cell_type": "code",
   "execution_count": 65,
   "id": "5e3315dc",
   "metadata": {},
   "outputs": [
    {
     "name": "stdout",
     "output_type": "stream",
     "text": [
      "12 78.022 lalitha False 12 12 45 12 "
     ]
    }
   ],
   "source": [
    "for i in range(len(y)):\n",
    "    print(y[i],end=\" \")"
   ]
  },
  {
   "cell_type": "code",
   "execution_count": 66,
   "id": "b780640a",
   "metadata": {},
   "outputs": [
    {
     "name": "stdout",
     "output_type": "stream",
     "text": [
      "12 78.022 lalitha False 12 12 45 12 "
     ]
    }
   ],
   "source": [
    "for i in y:\n",
    "    print(i,end=\" \")"
   ]
  },
  {
   "cell_type": "code",
   "execution_count": 67,
   "id": "831c543d",
   "metadata": {},
   "outputs": [
    {
     "name": "stdout",
     "output_type": "stream",
     "text": [
      "['__add__', '__class__', '__contains__', '__delattr__', '__delitem__', '__dir__', '__doc__', '__eq__', '__format__', '__ge__', '__getattribute__', '__getitem__', '__gt__', '__hash__', '__iadd__', '__imul__', '__init__', '__init_subclass__', '__iter__', '__le__', '__len__', '__lt__', '__mul__', '__ne__', '__new__', '__reduce__', '__reduce_ex__', '__repr__', '__reversed__', '__rmul__', '__setattr__', '__setitem__', '__sizeof__', '__str__', '__subclasshook__', 'append', 'clear', 'copy', 'count', 'extend', 'index', 'insert', 'pop', 'remove', 'reverse', 'sort']\n"
     ]
    }
   ],
   "source": [
    "print(dir(list))"
   ]
  },
  {
   "cell_type": "code",
   "execution_count": 68,
   "id": "c94da6d6",
   "metadata": {},
   "outputs": [
    {
     "name": "stdout",
     "output_type": "stream",
     "text": [
      "[12, 78.022, 'lalitha', False, '12', 12, 45, 12]\n",
      "[12, 78.022, 'lalitha', False, '12', 12, 45, 12, 12]\n"
     ]
    }
   ],
   "source": [
    "print(y)\n",
    "y.append(12)\n",
    "print(y)"
   ]
  },
  {
   "cell_type": "code",
   "execution_count": 69,
   "id": "9d252718",
   "metadata": {},
   "outputs": [
    {
     "name": "stdout",
     "output_type": "stream",
     "text": [
      "[12, 78.022, 'lalitha', False, '12', 12, 45, 12, 12]\n"
     ]
    },
    {
     "ename": "TypeError",
     "evalue": "append() takes exactly one argument (2 given)",
     "output_type": "error",
     "traceback": [
      "\u001b[1;31m-------------------------------------------------------------------------\u001b[0m",
      "\u001b[1;31mTypeError\u001b[0m                               Traceback (most recent call last)",
      "\u001b[1;32m<ipython-input-69-7f0dd090fef3>\u001b[0m in \u001b[0;36m<module>\u001b[1;34m\u001b[0m\n\u001b[0;32m      1\u001b[0m \u001b[0mprint\u001b[0m\u001b[1;33m(\u001b[0m\u001b[0my\u001b[0m\u001b[1;33m)\u001b[0m\u001b[1;33m\u001b[0m\u001b[1;33m\u001b[0m\u001b[0m\n\u001b[1;32m----> 2\u001b[1;33m \u001b[0my\u001b[0m\u001b[1;33m.\u001b[0m\u001b[0mappend\u001b[0m\u001b[1;33m(\u001b[0m\u001b[1;36m23\u001b[0m\u001b[1;33m,\u001b[0m\u001b[1;34m'25'\u001b[0m\u001b[1;33m)\u001b[0m\u001b[1;33m\u001b[0m\u001b[1;33m\u001b[0m\u001b[0m\n\u001b[0m\u001b[0;32m      3\u001b[0m \u001b[0mprint\u001b[0m\u001b[1;33m(\u001b[0m\u001b[0my\u001b[0m\u001b[1;33m)\u001b[0m\u001b[1;33m\u001b[0m\u001b[1;33m\u001b[0m\u001b[0m\n",
      "\u001b[1;31mTypeError\u001b[0m: append() takes exactly one argument (2 given)"
     ]
    }
   ],
   "source": [
    "print(y)\n",
    "y.append(23,'25')\n",
    "print(y)"
   ]
  },
  {
   "cell_type": "code",
   "execution_count": 70,
   "id": "2bef49da",
   "metadata": {},
   "outputs": [
    {
     "name": "stdout",
     "output_type": "stream",
     "text": [
      "[12, 78.022, 'lalitha', False, '12', 12, 45, 12, 12]\n",
      "[12, 78.022, 'lalitha', False, '12', 12, 45, 12, 12, [45, 78]]\n"
     ]
    }
   ],
   "source": [
    "print(y)\n",
    "y.append([45,78])\n",
    "print(y)"
   ]
  },
  {
   "cell_type": "code",
   "execution_count": 71,
   "id": "6dae8913",
   "metadata": {},
   "outputs": [
    {
     "name": "stdout",
     "output_type": "stream",
     "text": [
      "[12, 78.022, 'lalitha', False, '12', 12, 45, 12, 12, [45, 78]]\n",
      "['prasad', 12, 78.022, 'lalitha', False, '12', 12, 45, 12, 12, [45, 78]]\n"
     ]
    }
   ],
   "source": [
    "print(y)\n",
    "y.insert(0,'prasad')\n",
    "print(y)"
   ]
  },
  {
   "cell_type": "code",
   "execution_count": 72,
   "id": "8d40e575",
   "metadata": {},
   "outputs": [
    {
     "name": "stdout",
     "output_type": "stream",
     "text": [
      "['prasad', 12, 78.022, 'lalitha', False, '12', 12, 45, 12, 12, [45, 78]]\n",
      "[['prasad', 45], 'prasad', 12, 78.022, 'lalitha', False, '12', 12, 45, 12, 12, [45, 78]]\n"
     ]
    }
   ],
   "source": [
    "print(y)\n",
    "y.insert(0,['prasad',45])\n",
    "print(y)"
   ]
  },
  {
   "cell_type": "code",
   "execution_count": 74,
   "id": "3cfc9a9b",
   "metadata": {},
   "outputs": [
    {
     "name": "stdout",
     "output_type": "stream",
     "text": [
      "[['prasad', 45], 'prasad', 12, 78.022, 'lalitha', False, '12', 12, 45, 12, 12, [45, 78]]\n",
      "[['prasad', 45], 'prasad', 12, 78.022, 'lalitha', False, '12', 12, 45, 12, 12, [45, 78], 20]\n"
     ]
    }
   ],
   "source": [
    "print(y)\n",
    "y.insert(100,20)\n",
    "print(y)"
   ]
  },
  {
   "cell_type": "code",
   "execution_count": 75,
   "id": "f2a27332",
   "metadata": {},
   "outputs": [
    {
     "name": "stdout",
     "output_type": "stream",
     "text": [
      "[['prasad', 45], 'prasad', 12, 78.022, 'lalitha', False, '12', 12, 45, 12, 12, [45, 78], 20]\n"
     ]
    },
    {
     "ename": "TypeError",
     "evalue": "'int' object is not iterable",
     "output_type": "error",
     "traceback": [
      "\u001b[1;31m-------------------------------------------------------------------------\u001b[0m",
      "\u001b[1;31mTypeError\u001b[0m                               Traceback (most recent call last)",
      "\u001b[1;32m<ipython-input-75-87900e544d53>\u001b[0m in \u001b[0;36m<module>\u001b[1;34m\u001b[0m\n\u001b[0;32m      1\u001b[0m \u001b[0mprint\u001b[0m\u001b[1;33m(\u001b[0m\u001b[0my\u001b[0m\u001b[1;33m)\u001b[0m\u001b[1;33m\u001b[0m\u001b[1;33m\u001b[0m\u001b[0m\n\u001b[1;32m----> 2\u001b[1;33m \u001b[0my\u001b[0m\u001b[1;33m.\u001b[0m\u001b[0mextend\u001b[0m\u001b[1;33m(\u001b[0m\u001b[1;36m45\u001b[0m\u001b[1;33m)\u001b[0m\u001b[1;33m\u001b[0m\u001b[1;33m\u001b[0m\u001b[0m\n\u001b[0m\u001b[0;32m      3\u001b[0m \u001b[0mprint\u001b[0m\u001b[1;33m(\u001b[0m\u001b[0my\u001b[0m\u001b[1;33m)\u001b[0m\u001b[1;33m\u001b[0m\u001b[1;33m\u001b[0m\u001b[0m\n",
      "\u001b[1;31mTypeError\u001b[0m: 'int' object is not iterable"
     ]
    }
   ],
   "source": [
    "print(y)\n",
    "y.extend(45)\n",
    "print(y)"
   ]
  },
  {
   "cell_type": "code",
   "execution_count": 76,
   "id": "7984bd09",
   "metadata": {},
   "outputs": [
    {
     "name": "stdout",
     "output_type": "stream",
     "text": [
      "[['prasad', 45], 'prasad', 12, 78.022, 'lalitha', False, '12', 12, 45, 12, 12, [45, 78], 20]\n",
      "[['prasad', 45], 'prasad', 12, 78.022, 'lalitha', False, '12', 12, 45, 12, 12, [45, 78], 20, '45', 'prasad']\n"
     ]
    }
   ],
   "source": [
    "print(y)\n",
    "y.extend(['45','prasad'])\n",
    "print(y)"
   ]
  },
  {
   "cell_type": "code",
   "execution_count": 77,
   "id": "3ff87078",
   "metadata": {},
   "outputs": [
    {
     "name": "stdout",
     "output_type": "stream",
     "text": [
      "[['prasad', 45], 'prasad', 12, 78.022, 'lalitha', False, '12', 12, 45, 12, 12, [45, 78], 20, '45', 'prasad']\n"
     ]
    },
    {
     "ename": "TypeError",
     "evalue": "remove() takes exactly one argument (0 given)",
     "output_type": "error",
     "traceback": [
      "\u001b[1;31m-------------------------------------------------------------------------\u001b[0m",
      "\u001b[1;31mTypeError\u001b[0m                               Traceback (most recent call last)",
      "\u001b[1;32m<ipython-input-77-d9b278b1afbb>\u001b[0m in \u001b[0;36m<module>\u001b[1;34m\u001b[0m\n\u001b[0;32m      1\u001b[0m \u001b[0mprint\u001b[0m\u001b[1;33m(\u001b[0m\u001b[0my\u001b[0m\u001b[1;33m)\u001b[0m\u001b[1;33m\u001b[0m\u001b[1;33m\u001b[0m\u001b[0m\n\u001b[1;32m----> 2\u001b[1;33m \u001b[0my\u001b[0m\u001b[1;33m.\u001b[0m\u001b[0mremove\u001b[0m\u001b[1;33m(\u001b[0m\u001b[1;33m)\u001b[0m\u001b[1;33m\u001b[0m\u001b[1;33m\u001b[0m\u001b[0m\n\u001b[0m\u001b[0;32m      3\u001b[0m \u001b[0mprint\u001b[0m\u001b[1;33m(\u001b[0m\u001b[0my\u001b[0m\u001b[1;33m)\u001b[0m\u001b[1;33m\u001b[0m\u001b[1;33m\u001b[0m\u001b[0m\n",
      "\u001b[1;31mTypeError\u001b[0m: remove() takes exactly one argument (0 given)"
     ]
    }
   ],
   "source": [
    "print(y)\n",
    "y.remove()\n",
    "print(y)"
   ]
  },
  {
   "cell_type": "code",
   "execution_count": 78,
   "id": "c6380e9d",
   "metadata": {},
   "outputs": [
    {
     "name": "stdout",
     "output_type": "stream",
     "text": [
      "[['prasad', 45], 'prasad', 12, 78.022, 'lalitha', False, '12', 12, 45, 12, 12, [45, 78], 20, '45', 'prasad']\n",
      "[['prasad', 45], 'prasad', 12, 78.022, 'lalitha', False, '12', 12, 45, 12, 12, [45, 78], '45', 'prasad']\n"
     ]
    }
   ],
   "source": [
    "print(y)\n",
    "y.remove(20)\n",
    "print(y)"
   ]
  },
  {
   "cell_type": "code",
   "execution_count": 79,
   "id": "e1812e09",
   "metadata": {},
   "outputs": [
    {
     "name": "stdout",
     "output_type": "stream",
     "text": [
      "[['prasad', 45], 'prasad', 12, 78.022, 'lalitha', False, '12', 12, 45, 12, 12, [45, 78], '45', 'prasad']\n"
     ]
    },
    {
     "ename": "ValueError",
     "evalue": "list.remove(x): x not in list",
     "output_type": "error",
     "traceback": [
      "\u001b[1;31m-------------------------------------------------------------------------\u001b[0m",
      "\u001b[1;31mValueError\u001b[0m                              Traceback (most recent call last)",
      "\u001b[1;32m<ipython-input-79-1a6b877e1ccf>\u001b[0m in \u001b[0;36m<module>\u001b[1;34m\u001b[0m\n\u001b[0;32m      1\u001b[0m \u001b[0mprint\u001b[0m\u001b[1;33m(\u001b[0m\u001b[0my\u001b[0m\u001b[1;33m)\u001b[0m\u001b[1;33m\u001b[0m\u001b[1;33m\u001b[0m\u001b[0m\n\u001b[1;32m----> 2\u001b[1;33m \u001b[0my\u001b[0m\u001b[1;33m.\u001b[0m\u001b[0mremove\u001b[0m\u001b[1;33m(\u001b[0m\u001b[1;36m200\u001b[0m\u001b[1;33m)\u001b[0m\u001b[1;33m\u001b[0m\u001b[1;33m\u001b[0m\u001b[0m\n\u001b[0m\u001b[0;32m      3\u001b[0m \u001b[0mprint\u001b[0m\u001b[1;33m(\u001b[0m\u001b[0my\u001b[0m\u001b[1;33m)\u001b[0m\u001b[1;33m\u001b[0m\u001b[1;33m\u001b[0m\u001b[0m\n",
      "\u001b[1;31mValueError\u001b[0m: list.remove(x): x not in list"
     ]
    }
   ],
   "source": [
    "print(y)\n",
    "y.remove(200)\n",
    "print(y)"
   ]
  },
  {
   "cell_type": "code",
   "execution_count": 80,
   "id": "8b23280c",
   "metadata": {},
   "outputs": [
    {
     "name": "stdout",
     "output_type": "stream",
     "text": [
      "[['prasad', 45], 'prasad', 12, 78.022, 'lalitha', False, '12', 12, 45, 12, 12, [45, 78], '45', 'prasad']\n",
      "[['prasad', 45], 'prasad', 12, 78.022, 'lalitha', False, '12', 12, 45, 12, 12, [45, 78], '45']\n"
     ]
    }
   ],
   "source": [
    "print(y)\n",
    "y.pop()\n",
    "print(y)"
   ]
  },
  {
   "cell_type": "code",
   "execution_count": 81,
   "id": "b41a3633",
   "metadata": {},
   "outputs": [
    {
     "name": "stdout",
     "output_type": "stream",
     "text": [
      "[['prasad', 45], 'prasad', 12, 78.022, 'lalitha', False, '12', 12, 45, 12, 12, [45, 78], '45']\n"
     ]
    },
    {
     "ename": "TypeError",
     "evalue": "'str' object cannot be interpreted as an integer",
     "output_type": "error",
     "traceback": [
      "\u001b[1;31m-------------------------------------------------------------------------\u001b[0m",
      "\u001b[1;31mTypeError\u001b[0m                               Traceback (most recent call last)",
      "\u001b[1;32m<ipython-input-81-e0e6c3d922c5>\u001b[0m in \u001b[0;36m<module>\u001b[1;34m\u001b[0m\n\u001b[0;32m      1\u001b[0m \u001b[0mprint\u001b[0m\u001b[1;33m(\u001b[0m\u001b[0my\u001b[0m\u001b[1;33m)\u001b[0m\u001b[1;33m\u001b[0m\u001b[1;33m\u001b[0m\u001b[0m\n\u001b[1;32m----> 2\u001b[1;33m \u001b[0my\u001b[0m\u001b[1;33m.\u001b[0m\u001b[0mpop\u001b[0m\u001b[1;33m(\u001b[0m\u001b[1;34m'45'\u001b[0m\u001b[1;33m)\u001b[0m\u001b[1;33m\u001b[0m\u001b[1;33m\u001b[0m\u001b[0m\n\u001b[0m\u001b[0;32m      3\u001b[0m \u001b[0mprint\u001b[0m\u001b[1;33m(\u001b[0m\u001b[0my\u001b[0m\u001b[1;33m)\u001b[0m\u001b[1;33m\u001b[0m\u001b[1;33m\u001b[0m\u001b[0m\n",
      "\u001b[1;31mTypeError\u001b[0m: 'str' object cannot be interpreted as an integer"
     ]
    }
   ],
   "source": [
    "print(y)\n",
    "y.pop('45')\n",
    "print(y)"
   ]
  },
  {
   "cell_type": "code",
   "execution_count": 82,
   "id": "f8bb1ad2",
   "metadata": {},
   "outputs": [
    {
     "name": "stdout",
     "output_type": "stream",
     "text": [
      "[['prasad', 45], 'prasad', 12, 78.022, 'lalitha', False, '12', 12, 45, 12, 12, [45, 78], '45']\n",
      "['prasad', 12, 78.022, 'lalitha', False, '12', 12, 45, 12, 12, [45, 78], '45']\n"
     ]
    }
   ],
   "source": [
    "print(y)\n",
    "y.pop(0)\n",
    "print(y)"
   ]
  },
  {
   "cell_type": "code",
   "execution_count": 83,
   "id": "821c3e4e",
   "metadata": {},
   "outputs": [
    {
     "name": "stdout",
     "output_type": "stream",
     "text": [
      "['prasad', 12, 78.022, 'lalitha', False, '12', 12, 45, 12, 12, [45, 78], '45']\n",
      "['prasad', 12, 78.022, 'lalitha', False, '12', 12, 45, 12, 12, [45, 78], '45']\n",
      "['prasad', 12, 78.022, 'lalitha', False, '12', 12, 45, 12, 12, [45, 78], '45']\n"
     ]
    }
   ],
   "source": [
    "print(y)\n",
    "p = y.copy()\n",
    "print(p)\n",
    "print(y)"
   ]
  },
  {
   "cell_type": "code",
   "execution_count": 84,
   "id": "1b35704c",
   "metadata": {},
   "outputs": [
    {
     "name": "stdout",
     "output_type": "stream",
     "text": [
      "['prasad', 12, 78.022, 'lalitha', False, '12', 12, 45, 12, 12, [45, 78], '45']\n",
      "[]\n",
      "['prasad', 12, 78.022, 'lalitha', False, '12', 12, 45, 12, 12, [45, 78], '45']\n"
     ]
    }
   ],
   "source": [
    "print(y)\n",
    "y.clear()\n",
    "print(y)\n",
    "print(p)"
   ]
  },
  {
   "cell_type": "code",
   "execution_count": 87,
   "id": "0f18d7b3",
   "metadata": {},
   "outputs": [
    {
     "name": "stdout",
     "output_type": "stream",
     "text": [
      "['prasad', 12, 78.022, 'lalitha', False, '12', 12, 45, 12, 12, [45, 78], '45']\n",
      "4\n",
      "0\n"
     ]
    }
   ],
   "source": [
    "print(p)\n",
    "print(p.count(12))\n",
    "print(p.count(200))"
   ]
  },
  {
   "cell_type": "code",
   "execution_count": 91,
   "id": "950232ce",
   "metadata": {},
   "outputs": [
    {
     "name": "stdout",
     "output_type": "stream",
     "text": [
      "['prasad', 12, 78.022, 'lalitha', False, '12', 12, 45, 12, 12, [45, 78], '45']\n",
      "2\n",
      "1\n"
     ]
    },
    {
     "ename": "ValueError",
     "evalue": "-20 is not in list",
     "output_type": "error",
     "traceback": [
      "\u001b[1;31m-------------------------------------------------------------------------\u001b[0m",
      "\u001b[1;31mValueError\u001b[0m                              Traceback (most recent call last)",
      "\u001b[1;32m<ipython-input-91-7795a33cd161>\u001b[0m in \u001b[0;36m<module>\u001b[1;34m\u001b[0m\n\u001b[0;32m      2\u001b[0m \u001b[0mprint\u001b[0m\u001b[1;33m(\u001b[0m\u001b[0mp\u001b[0m\u001b[1;33m.\u001b[0m\u001b[0mindex\u001b[0m\u001b[1;33m(\u001b[0m\u001b[1;36m78.022\u001b[0m\u001b[1;33m)\u001b[0m\u001b[1;33m)\u001b[0m\u001b[1;33m\u001b[0m\u001b[1;33m\u001b[0m\u001b[0m\n\u001b[0;32m      3\u001b[0m \u001b[0mprint\u001b[0m\u001b[1;33m(\u001b[0m\u001b[0mp\u001b[0m\u001b[1;33m.\u001b[0m\u001b[0mindex\u001b[0m\u001b[1;33m(\u001b[0m\u001b[1;36m12\u001b[0m\u001b[1;33m)\u001b[0m\u001b[1;33m)\u001b[0m\u001b[1;33m\u001b[0m\u001b[1;33m\u001b[0m\u001b[0m\n\u001b[1;32m----> 4\u001b[1;33m \u001b[0mprint\u001b[0m\u001b[1;33m(\u001b[0m\u001b[0mp\u001b[0m\u001b[1;33m.\u001b[0m\u001b[0mindex\u001b[0m\u001b[1;33m(\u001b[0m\u001b[1;33m-\u001b[0m\u001b[1;36m20\u001b[0m\u001b[1;33m)\u001b[0m\u001b[1;33m)\u001b[0m\u001b[1;33m\u001b[0m\u001b[1;33m\u001b[0m\u001b[0m\n\u001b[0m",
      "\u001b[1;31mValueError\u001b[0m: -20 is not in list"
     ]
    }
   ],
   "source": [
    "print(p)\n",
    "print(p.index(78.022))\n",
    "print(p.index(12))\n",
    "print(p.index(-20))"
   ]
  },
  {
   "cell_type": "code",
   "execution_count": 92,
   "id": "c62de8b6",
   "metadata": {},
   "outputs": [
    {
     "name": "stdout",
     "output_type": "stream",
     "text": [
      "['prasad', 12, 78.022, 'lalitha', False, '12', 12, 45, 12, 12, [45, 78], '45']\n",
      "['45', [45, 78], 12, 12, 45, 12, '12', False, 'lalitha', 78.022, 12, 'prasad']\n"
     ]
    }
   ],
   "source": [
    "print(p)\n",
    "p.reverse()\n",
    "print(p)"
   ]
  },
  {
   "cell_type": "code",
   "execution_count": 93,
   "id": "f1fee534",
   "metadata": {},
   "outputs": [
    {
     "name": "stdout",
     "output_type": "stream",
     "text": [
      "['45', [45, 78], 12, 12, 45, 12, '12', False, 'lalitha', 78.022, 12, 'prasad']\n"
     ]
    },
    {
     "ename": "NameError",
     "evalue": "name 'p' is not defined",
     "output_type": "error",
     "traceback": [
      "\u001b[1;31m-------------------------------------------------------------------------\u001b[0m",
      "\u001b[1;31mNameError\u001b[0m                               Traceback (most recent call last)",
      "\u001b[1;32m<ipython-input-93-7519e7043e9d>\u001b[0m in \u001b[0;36m<module>\u001b[1;34m\u001b[0m\n\u001b[0;32m      1\u001b[0m \u001b[0mprint\u001b[0m\u001b[1;33m(\u001b[0m\u001b[0mp\u001b[0m\u001b[1;33m)\u001b[0m\u001b[1;33m\u001b[0m\u001b[1;33m\u001b[0m\u001b[0m\n\u001b[0;32m      2\u001b[0m \u001b[1;32mdel\u001b[0m \u001b[0mp\u001b[0m\u001b[1;33m\u001b[0m\u001b[1;33m\u001b[0m\u001b[0m\n\u001b[1;32m----> 3\u001b[1;33m \u001b[0mprint\u001b[0m\u001b[1;33m(\u001b[0m\u001b[0mp\u001b[0m\u001b[1;33m)\u001b[0m\u001b[1;33m\u001b[0m\u001b[1;33m\u001b[0m\u001b[0m\n\u001b[0m",
      "\u001b[1;31mNameError\u001b[0m: name 'p' is not defined"
     ]
    }
   ],
   "source": [
    "print(p)\n",
    "del p\n",
    "print(p)"
   ]
  },
  {
   "cell_type": "code",
   "execution_count": 94,
   "id": "21081a79",
   "metadata": {},
   "outputs": [
    {
     "name": "stdout",
     "output_type": "stream",
     "text": [
      "[0.121, 45, 12, 3, 489]\n",
      "[0.121, 3, 12, 45, 489]\n"
     ]
    }
   ],
   "source": [
    "h = [0.121,45,12,3,489]\n",
    "print(h)\n",
    "h.sort()\n",
    "print(h)"
   ]
  },
  {
   "cell_type": "code",
   "execution_count": 96,
   "id": "cf97a39c",
   "metadata": {},
   "outputs": [
    {
     "name": "stdout",
     "output_type": "stream",
     "text": [
      "[0.121, 3, 12, 45, 489]\n",
      "[489, 45, 12, 3, 0.121]\n"
     ]
    }
   ],
   "source": [
    "print(h)\n",
    "h.sort(reverse=True)\n",
    "print(h)"
   ]
  },
  {
   "cell_type": "code",
   "execution_count": 101,
   "id": "a7ce796c",
   "metadata": {},
   "outputs": [
    {
     "name": "stdout",
     "output_type": "stream",
     "text": [
      "Enter List size: 5\n",
      "Enter x value: 2\n",
      "Enter y value: 4\n",
      "Enter 1 number: 23\n",
      "Enter 2 number: 6\n",
      "Enter 3 number: 5\n",
      "Enter 4 number: 89\n",
      "Enter 5 number: 25\n",
      "6 "
     ]
    }
   ],
   "source": [
    "# 3.a\n",
    "s = int(input(\"Enter List size: \"))\n",
    "x = int(input(\"Enter x value: \"))\n",
    "y = int(input(\"Enter y value: \"))\n",
    "sl = []\n",
    "for i in range(s):\n",
    "    d = int(input(\"Enter {} number: \".format(i+1)))\n",
    "    sl.append(d)\n",
    "for j in sl:\n",
    "    if j%x==0 and j%y!=0:\n",
    "        print(j,end=\" \")"
   ]
  },
  {
   "cell_type": "code",
   "execution_count": 102,
   "id": "0a32039e",
   "metadata": {},
   "outputs": [
    {
     "name": "stdout",
     "output_type": "stream",
     "text": [
      "Enter a size: 5\n",
      "Enter a number: 23\n",
      "Enter a number: 10\n",
      "Enter a number: 15\n",
      "Enter a number: 14\n",
      "Enter a number: 63\n",
      "Odd numbers sum is: 101\n",
      "Even numbers sum is: 24\n"
     ]
    }
   ],
   "source": [
    "# 3.b\n",
    "s = int(input(\"Enter a size: \"))\n",
    "sp,es,os = [],0,0\n",
    "for i in range(s):\n",
    "    h = int(input(\"Enter a number: \"))\n",
    "    sp.append(h)\n",
    "for j in sp:\n",
    "    if j%2==0:\n",
    "        es+=j\n",
    "    else:\n",
    "        os+=j\n",
    "print(\"Odd numbers sum is: {}\".format(os))\n",
    "print(\"Even numbers sum is: {}\".format(es))"
   ]
  },
  {
   "cell_type": "code",
   "execution_count": 104,
   "id": "cbf65311",
   "metadata": {},
   "outputs": [
    {
     "name": "stdout",
     "output_type": "stream",
     "text": [
      "Enter a size: 7\n",
      "Enter a number: 10\n",
      "Enter a number: 25\n",
      "Enter a number: 30\n",
      "Enter a number: 47\n",
      "Enter a number: 56\n",
      "Enter a number: 84\n",
      "Enter a number: 96\n",
      "The number in odd index position:  25 47 84 "
     ]
    }
   ],
   "source": [
    "# 3.c\n",
    "s = int(input(\"Enter a size: \"))\n",
    "sp = []\n",
    "for i in range(s):\n",
    "    h = int(input(\"Enter a number: \"))\n",
    "    sp.append(h)\n",
    "print(\"The number in odd index position: \",end=\" \")\n",
    "for j in range(len(sp)):\n",
    "    if j%2!=0:\n",
    "        print(sp[j],end=\" \")"
   ]
  },
  {
   "cell_type": "code",
   "execution_count": 108,
   "id": "e06de6e6",
   "metadata": {},
   "outputs": [
    {
     "name": "stdout",
     "output_type": "stream",
     "text": [
      "Enter a size: 9\n",
      "Enter a number: 10\n",
      "Enter a number: 20\n",
      "Enter a number: 40\n",
      "Enter a number: 10\n",
      "Enter a number: 50\n",
      "Enter a number: 30\n",
      "Enter a number: 20\n",
      "Enter a number: 10\n",
      "Enter a number: 80\n",
      "unique list is: [10, 20, 30, 40, 50, 80]\n"
     ]
    }
   ],
   "source": [
    "# 3.d\n",
    "s = int(input(\"Enter a size: \"))\n",
    "sp,dy = [],[]\n",
    "for i in range(s):\n",
    "    h = int(input(\"Enter a number: \"))\n",
    "    sp.append(h)\n",
    "for j in sp:\n",
    "    if j not in dy:\n",
    "        dy.append(j)\n",
    "dy.sort()\n",
    "print(\"unique list is: {}\".format(dy))"
   ]
  },
  {
   "cell_type": "code",
   "execution_count": 111,
   "id": "7930186c",
   "metadata": {},
   "outputs": [
    {
     "name": "stdout",
     "output_type": "stream",
     "text": [
      "Enter a size: 3\n",
      "Enter a number: 12\n",
      "Enter a number: 4\n",
      "Enter a number: 8\n",
      "Enter a number to check in a list: 4\n",
      "4 "
     ]
    }
   ],
   "source": [
    "# 1.a\n",
    "s = int(input(\"Enter a size: \"))\n",
    "sp = []\n",
    "for i in range(s):\n",
    "    h = int(input(\"Enter a number: \"))\n",
    "    sp.append(h)\n",
    "ch = int(input(\"Enter a number to check in a list: \"))\n",
    "if ch in sp:\n",
    "    print(ch,end=\" \")"
   ]
  },
  {
   "cell_type": "code",
   "execution_count": 122,
   "id": "f83eca5a",
   "metadata": {},
   "outputs": [
    {
     "name": "stdout",
     "output_type": "stream",
     "text": [
      "Enter Your name: tilak\n",
      "Enter Your age: 50\n",
      "2072\n"
     ]
    }
   ],
   "source": [
    "# 1.b\n",
    "import datetime\n",
    "t = datetime.datetime.now().year\n",
    "n = input(\"Enter Your name: \")\n",
    "a = int(input(\"Enter Your age: \"))\n",
    "print((100-a)+t)"
   ]
  },
  {
   "cell_type": "markdown",
   "id": "05b83680",
   "metadata": {},
   "source": [
    "## Tuple:\n",
    "    - It can be represented as \"()\"\n",
    "    - It stores the data in ordered format\n",
    "    - Slicing can be done because of index values\n",
    "    - Duplicate values can be stored\n",
    "    - It can't changes the data items\n",
    "    - It can be typecasted as tuple()"
   ]
  },
  {
   "cell_type": "code",
   "execution_count": 127,
   "id": "5e3dceb2",
   "metadata": {},
   "outputs": [
    {
     "name": "stdout",
     "output_type": "stream",
     "text": [
      "(45, 23.0, 'kiran', True, '45', 45, 45, 12) <class 'tuple'>\n",
      "kiran\n"
     ]
    }
   ],
   "source": [
    "r = (45,23.000,'kiran',True,'45',45,45,12)\n",
    "print(r,type(r))\n",
    "print(r[2])"
   ]
  },
  {
   "cell_type": "code",
   "execution_count": 128,
   "id": "9e86a758",
   "metadata": {},
   "outputs": [
    {
     "name": "stdout",
     "output_type": "stream",
     "text": [
      "45 23.0 kiran True 45 45 45 12 "
     ]
    }
   ],
   "source": [
    "for i in r:\n",
    "    print(i,end=\" \")"
   ]
  },
  {
   "cell_type": "code",
   "execution_count": 126,
   "id": "287092db",
   "metadata": {},
   "outputs": [
    {
     "name": "stdout",
     "output_type": "stream",
     "text": [
      "['__add__', '__class__', '__contains__', '__delattr__', '__dir__', '__doc__', '__eq__', '__format__', '__ge__', '__getattribute__', '__getitem__', '__getnewargs__', '__gt__', '__hash__', '__init__', '__init_subclass__', '__iter__', '__le__', '__len__', '__lt__', '__mul__', '__ne__', '__new__', '__reduce__', '__reduce_ex__', '__repr__', '__rmul__', '__setattr__', '__sizeof__', '__str__', '__subclasshook__', 'count', 'index']\n"
     ]
    }
   ],
   "source": [
    "print(dir(tuple))"
   ]
  },
  {
   "cell_type": "code",
   "execution_count": 130,
   "id": "ff8af1a4",
   "metadata": {},
   "outputs": [
    {
     "name": "stdout",
     "output_type": "stream",
     "text": [
      "(45, 23.0, 'kiran', True, '45', 45, 45, 12)\n",
      "3\n",
      "0\n",
      "4\n"
     ]
    }
   ],
   "source": [
    "print(r)\n",
    "print(r.count(45))\n",
    "print(r.count(200))\n",
    "print(r.index('45'))"
   ]
  },
  {
   "cell_type": "code",
   "execution_count": 131,
   "id": "4805ad40",
   "metadata": {},
   "outputs": [
    {
     "ename": "ValueError",
     "evalue": "tuple.index(x): x not in tuple",
     "output_type": "error",
     "traceback": [
      "\u001b[1;31m-------------------------------------------------------------------------\u001b[0m",
      "\u001b[1;31mValueError\u001b[0m                              Traceback (most recent call last)",
      "\u001b[1;32m<ipython-input-131-379f663bd54a>\u001b[0m in \u001b[0;36m<module>\u001b[1;34m\u001b[0m\n\u001b[1;32m----> 1\u001b[1;33m \u001b[0mprint\u001b[0m\u001b[1;33m(\u001b[0m\u001b[0mr\u001b[0m\u001b[1;33m.\u001b[0m\u001b[0mindex\u001b[0m\u001b[1;33m(\u001b[0m\u001b[1;33m-\u001b[0m\u001b[1;36m50\u001b[0m\u001b[1;33m)\u001b[0m\u001b[1;33m)\u001b[0m\u001b[1;33m\u001b[0m\u001b[1;33m\u001b[0m\u001b[0m\n\u001b[0m",
      "\u001b[1;31mValueError\u001b[0m: tuple.index(x): x not in tuple"
     ]
    }
   ],
   "source": [
    "print(r.index(-50))"
   ]
  },
  {
   "cell_type": "code",
   "execution_count": 136,
   "id": "c7a182d6",
   "metadata": {},
   "outputs": [
    {
     "name": "stdout",
     "output_type": "stream",
     "text": [
      "(45, 23.0, 'kiran', True, '45', 45, 45, 12) <class 'tuple'>\n",
      "[45, 23.0, 'kiran', True, '45', 45, 45, 12] <class 'list'>\n",
      "(45, 23.0, 'kiran', True, '45', 45, 45, 12, 'suresh') <class 'tuple'>\n"
     ]
    }
   ],
   "source": [
    "print(r,type(r))\n",
    "k = list(r)\n",
    "print(k,type(k))\n",
    "k.append('suresh')\n",
    "f = tuple(k)\n",
    "print(f,type(f))"
   ]
  },
  {
   "cell_type": "markdown",
   "id": "be6e2320",
   "metadata": {},
   "source": [
    "## Dictionary:\n",
    "    - It can be represented as \"{}\" with empty value by default it is dictionary\n",
    "    - It stores the data with key and values pairs\n",
    "    - duplicate of keys cant be accessed but values can\n",
    "    - Slicing can be done for values but not for keys\n",
    "    - It can be typecasted as dict()"
   ]
  },
  {
   "cell_type": "code",
   "execution_count": 139,
   "id": "1292d500",
   "metadata": {},
   "outputs": [
    {
     "name": "stdout",
     "output_type": "stream",
     "text": [
      "{} <class 'dict'>\n"
     ]
    }
   ],
   "source": [
    "g = {}\n",
    "print(g,type(g))"
   ]
  },
  {
   "cell_type": "code",
   "execution_count": 140,
   "id": "f563c1a4",
   "metadata": {},
   "outputs": [
    {
     "name": "stdout",
     "output_type": "stream",
     "text": [
      "{1} <class 'set'>\n"
     ]
    }
   ],
   "source": [
    "g = {1}\n",
    "print(g,type(g))"
   ]
  },
  {
   "cell_type": "code",
   "execution_count": 141,
   "id": "d667b2ce",
   "metadata": {},
   "outputs": [
    {
     "name": "stdout",
     "output_type": "stream",
     "text": [
      "{'stname': ['ramesh', 'kumar'], 'sal': 2500} <class 'dict'>\n"
     ]
    }
   ],
   "source": [
    "g = {'stname':['ramesh','kumar'],'sal':2500}\n",
    "print(g,type(g))"
   ]
  },
  {
   "cell_type": "code",
   "execution_count": 143,
   "id": "e7b5bec1",
   "metadata": {},
   "outputs": [
    {
     "ename": "ValueError",
     "evalue": "too many values to unpack (expected 2)",
     "output_type": "error",
     "traceback": [
      "\u001b[1;31m-------------------------------------------------------------------------\u001b[0m",
      "\u001b[1;31mValueError\u001b[0m                              Traceback (most recent call last)",
      "\u001b[1;32m<ipython-input-143-865bd647cb32>\u001b[0m in \u001b[0;36m<module>\u001b[1;34m\u001b[0m\n\u001b[1;32m----> 1\u001b[1;33m \u001b[1;32mfor\u001b[0m \u001b[0mi\u001b[0m\u001b[1;33m,\u001b[0m\u001b[0mj\u001b[0m \u001b[1;32min\u001b[0m \u001b[0mg\u001b[0m\u001b[1;33m:\u001b[0m\u001b[1;33m\u001b[0m\u001b[1;33m\u001b[0m\u001b[0m\n\u001b[0m\u001b[0;32m      2\u001b[0m     \u001b[0mprint\u001b[0m\u001b[1;33m(\u001b[0m\u001b[0mi\u001b[0m\u001b[1;33m,\u001b[0m\u001b[0mj\u001b[0m\u001b[1;33m,\u001b[0m\u001b[0mend\u001b[0m\u001b[1;33m=\u001b[0m\u001b[1;34m\" \"\u001b[0m\u001b[1;33m)\u001b[0m\u001b[1;33m\u001b[0m\u001b[1;33m\u001b[0m\u001b[0m\n",
      "\u001b[1;31mValueError\u001b[0m: too many values to unpack (expected 2)"
     ]
    }
   ],
   "source": [
    "for i,j in g:\n",
    "    print(i,j,end=\" \")"
   ]
  },
  {
   "cell_type": "code",
   "execution_count": 144,
   "id": "cdaacd55",
   "metadata": {},
   "outputs": [
    {
     "name": "stdout",
     "output_type": "stream",
     "text": [
      "stname sal "
     ]
    }
   ],
   "source": [
    "for i in g:\n",
    "    print(i,end=\" \")"
   ]
  },
  {
   "cell_type": "code",
   "execution_count": 145,
   "id": "2b4f9e54",
   "metadata": {},
   "outputs": [
    {
     "name": "stdout",
     "output_type": "stream",
     "text": [
      "stname ['ramesh', 'kumar'] sal 2500 "
     ]
    }
   ],
   "source": [
    "for i,j in g.items():\n",
    "    print(i,j,end=\" \")"
   ]
  },
  {
   "cell_type": "code",
   "execution_count": 146,
   "id": "1c8b6ca1",
   "metadata": {},
   "outputs": [
    {
     "name": "stdout",
     "output_type": "stream",
     "text": [
      "['ramesh', 'kumar']\n"
     ]
    }
   ],
   "source": [
    "print(g['stname'])"
   ]
  },
  {
   "cell_type": "code",
   "execution_count": 147,
   "id": "9739a6d4",
   "metadata": {},
   "outputs": [
    {
     "name": "stdout",
     "output_type": "stream",
     "text": [
      "['ramesh', 'kumar']\n"
     ]
    }
   ],
   "source": [
    "print(g.get('stname'))"
   ]
  },
  {
   "cell_type": "code",
   "execution_count": 148,
   "id": "c372e48a",
   "metadata": {},
   "outputs": [
    {
     "name": "stdout",
     "output_type": "stream",
     "text": [
      "['__class__', '__contains__', '__delattr__', '__delitem__', '__dir__', '__doc__', '__eq__', '__format__', '__ge__', '__getattribute__', '__getitem__', '__gt__', '__hash__', '__init__', '__init_subclass__', '__iter__', '__le__', '__len__', '__lt__', '__ne__', '__new__', '__reduce__', '__reduce_ex__', '__repr__', '__setattr__', '__setitem__', '__sizeof__', '__str__', '__subclasshook__', 'clear', 'copy', 'fromkeys', 'get', 'items', 'keys', 'pop', 'popitem', 'setdefault', 'update', 'values']\n"
     ]
    }
   ],
   "source": [
    "print(dir(dict))"
   ]
  },
  {
   "cell_type": "code",
   "execution_count": 149,
   "id": "052eb126",
   "metadata": {},
   "outputs": [
    {
     "name": "stdout",
     "output_type": "stream",
     "text": [
      "dict_items([('stname', ['ramesh', 'kumar']), ('sal', 2500)])\n"
     ]
    }
   ],
   "source": [
    "print(g.items())"
   ]
  },
  {
   "cell_type": "code",
   "execution_count": 150,
   "id": "e3faee5c",
   "metadata": {},
   "outputs": [
    {
     "name": "stdout",
     "output_type": "stream",
     "text": [
      "dict_keys(['stname', 'sal'])\n"
     ]
    }
   ],
   "source": [
    "print(g.keys())"
   ]
  },
  {
   "cell_type": "code",
   "execution_count": 151,
   "id": "f98c2184",
   "metadata": {},
   "outputs": [
    {
     "name": "stdout",
     "output_type": "stream",
     "text": [
      "dict_values([['ramesh', 'kumar'], 2500])\n"
     ]
    }
   ],
   "source": [
    "print(g.values())"
   ]
  },
  {
   "cell_type": "code",
   "execution_count": 162,
   "id": "60f5fdc7",
   "metadata": {},
   "outputs": [
    {
     "name": "stdout",
     "output_type": "stream",
     "text": [
      "{'stname': ['ramesh', 'kumar'], 'sal': 30}\n",
      "{'stname': ['ramesh', 'kumar'], 'sal': 30, 'age': 30}\n"
     ]
    }
   ],
   "source": [
    "print(g)\n",
    "g.update({'age':30})\n",
    "print(g)"
   ]
  },
  {
   "cell_type": "code",
   "execution_count": 163,
   "id": "8e933a71",
   "metadata": {},
   "outputs": [
    {
     "name": "stdout",
     "output_type": "stream",
     "text": [
      "{'stname': ['ramesh', 'kumar'], 'sal': 30, 'age': 30}\n",
      "{'stname': ['ramesh', 'kumar'], 'sal': 3000, 'age': 30}\n"
     ]
    }
   ],
   "source": [
    "print(g)\n",
    "g.update({'sal':3000})\n",
    "print(g)"
   ]
  },
  {
   "cell_type": "code",
   "execution_count": 164,
   "id": "fac865e9",
   "metadata": {},
   "outputs": [
    {
     "name": "stdout",
     "output_type": "stream",
     "text": [
      "{'stname': ['ramesh', 'kumar'], 'sal': 3000, 'age': 30}\n"
     ]
    },
    {
     "ename": "TypeError",
     "evalue": "pop expected at least 1 arguments, got 0",
     "output_type": "error",
     "traceback": [
      "\u001b[1;31m-------------------------------------------------------------------------\u001b[0m",
      "\u001b[1;31mTypeError\u001b[0m                               Traceback (most recent call last)",
      "\u001b[1;32m<ipython-input-164-54c698ae579e>\u001b[0m in \u001b[0;36m<module>\u001b[1;34m\u001b[0m\n\u001b[0;32m      1\u001b[0m \u001b[0mprint\u001b[0m\u001b[1;33m(\u001b[0m\u001b[0mg\u001b[0m\u001b[1;33m)\u001b[0m\u001b[1;33m\u001b[0m\u001b[1;33m\u001b[0m\u001b[0m\n\u001b[1;32m----> 2\u001b[1;33m \u001b[0mg\u001b[0m\u001b[1;33m.\u001b[0m\u001b[0mpop\u001b[0m\u001b[1;33m(\u001b[0m\u001b[1;33m)\u001b[0m\u001b[1;33m\u001b[0m\u001b[1;33m\u001b[0m\u001b[0m\n\u001b[0m\u001b[0;32m      3\u001b[0m \u001b[0mprint\u001b[0m\u001b[1;33m(\u001b[0m\u001b[0mg\u001b[0m\u001b[1;33m)\u001b[0m\u001b[1;33m\u001b[0m\u001b[1;33m\u001b[0m\u001b[0m\n",
      "\u001b[1;31mTypeError\u001b[0m: pop expected at least 1 arguments, got 0"
     ]
    }
   ],
   "source": [
    "print(g)\n",
    "g.pop()\n",
    "print(g)"
   ]
  },
  {
   "cell_type": "code",
   "execution_count": 165,
   "id": "d317d49c",
   "metadata": {},
   "outputs": [
    {
     "name": "stdout",
     "output_type": "stream",
     "text": [
      "{'stname': ['ramesh', 'kumar'], 'sal': 3000, 'age': 30}\n"
     ]
    },
    {
     "ename": "KeyError",
     "evalue": "1",
     "output_type": "error",
     "traceback": [
      "\u001b[1;31m-------------------------------------------------------------------------\u001b[0m",
      "\u001b[1;31mKeyError\u001b[0m                                Traceback (most recent call last)",
      "\u001b[1;32m<ipython-input-165-655140f2c922>\u001b[0m in \u001b[0;36m<module>\u001b[1;34m\u001b[0m\n\u001b[0;32m      1\u001b[0m \u001b[0mprint\u001b[0m\u001b[1;33m(\u001b[0m\u001b[0mg\u001b[0m\u001b[1;33m)\u001b[0m\u001b[1;33m\u001b[0m\u001b[1;33m\u001b[0m\u001b[0m\n\u001b[1;32m----> 2\u001b[1;33m \u001b[0mg\u001b[0m\u001b[1;33m.\u001b[0m\u001b[0mpop\u001b[0m\u001b[1;33m(\u001b[0m\u001b[1;36m1\u001b[0m\u001b[1;33m)\u001b[0m\u001b[1;33m\u001b[0m\u001b[1;33m\u001b[0m\u001b[0m\n\u001b[0m\u001b[0;32m      3\u001b[0m \u001b[0mprint\u001b[0m\u001b[1;33m(\u001b[0m\u001b[0mg\u001b[0m\u001b[1;33m)\u001b[0m\u001b[1;33m\u001b[0m\u001b[1;33m\u001b[0m\u001b[0m\n",
      "\u001b[1;31mKeyError\u001b[0m: 1"
     ]
    }
   ],
   "source": [
    "print(g)\n",
    "g.pop(1)\n",
    "print(g)"
   ]
  },
  {
   "cell_type": "code",
   "execution_count": 166,
   "id": "3d921486",
   "metadata": {},
   "outputs": [
    {
     "name": "stdout",
     "output_type": "stream",
     "text": [
      "{'stname': ['ramesh', 'kumar'], 'sal': 3000, 'age': 30}\n",
      "{'stname': ['ramesh', 'kumar'], 'age': 30}\n"
     ]
    }
   ],
   "source": [
    "print(g)\n",
    "g.pop('sal')\n",
    "print(g)"
   ]
  },
  {
   "cell_type": "code",
   "execution_count": 167,
   "id": "039ea641",
   "metadata": {},
   "outputs": [
    {
     "name": "stdout",
     "output_type": "stream",
     "text": [
      "{'stname': ['ramesh', 'kumar'], 'age': 30}\n",
      "{'stname': ['ramesh', 'kumar']}\n"
     ]
    }
   ],
   "source": [
    "print(g)\n",
    "g.popitem()\n",
    "print(g)"
   ]
  },
  {
   "cell_type": "code",
   "execution_count": 168,
   "id": "c8433af0",
   "metadata": {},
   "outputs": [],
   "source": [
    "g.update({'id':2015})"
   ]
  },
  {
   "cell_type": "code",
   "execution_count": 170,
   "id": "251ff619",
   "metadata": {},
   "outputs": [
    {
     "name": "stdout",
     "output_type": "stream",
     "text": [
      "{'stname': ['ramesh', 'kumar'], 'id': 2015}\n"
     ]
    },
    {
     "ename": "TypeError",
     "evalue": "popitem() takes no arguments (1 given)",
     "output_type": "error",
     "traceback": [
      "\u001b[1;31m-------------------------------------------------------------------------\u001b[0m",
      "\u001b[1;31mTypeError\u001b[0m                               Traceback (most recent call last)",
      "\u001b[1;32m<ipython-input-170-b5305b2e8b01>\u001b[0m in \u001b[0;36m<module>\u001b[1;34m\u001b[0m\n\u001b[0;32m      1\u001b[0m \u001b[0mprint\u001b[0m\u001b[1;33m(\u001b[0m\u001b[0mg\u001b[0m\u001b[1;33m)\u001b[0m\u001b[1;33m\u001b[0m\u001b[1;33m\u001b[0m\u001b[0m\n\u001b[1;32m----> 2\u001b[1;33m \u001b[0mg\u001b[0m\u001b[1;33m.\u001b[0m\u001b[0mpopitem\u001b[0m\u001b[1;33m(\u001b[0m\u001b[1;34m'stname'\u001b[0m\u001b[1;33m)\u001b[0m\u001b[1;33m\u001b[0m\u001b[1;33m\u001b[0m\u001b[0m\n\u001b[0m\u001b[0;32m      3\u001b[0m \u001b[0mprint\u001b[0m\u001b[1;33m(\u001b[0m\u001b[0mg\u001b[0m\u001b[1;33m)\u001b[0m\u001b[1;33m\u001b[0m\u001b[1;33m\u001b[0m\u001b[0m\n",
      "\u001b[1;31mTypeError\u001b[0m: popitem() takes no arguments (1 given)"
     ]
    }
   ],
   "source": [
    "print(g)\n",
    "g.popitem('stname')\n",
    "print(g)"
   ]
  },
  {
   "cell_type": "code",
   "execution_count": 176,
   "id": "c10121ed",
   "metadata": {},
   "outputs": [
    {
     "name": "stdout",
     "output_type": "stream",
     "text": [
      "{'stname': ['ramesh', 'kumar'], 'id': 2015}\n"
     ]
    }
   ],
   "source": [
    "print(g)\n",
    "del(g['stname'])"
   ]
  },
  {
   "cell_type": "code",
   "execution_count": 177,
   "id": "4faaf5d4",
   "metadata": {},
   "outputs": [
    {
     "name": "stdout",
     "output_type": "stream",
     "text": [
      "{'id': 2015}\n"
     ]
    }
   ],
   "source": [
    "print(g)"
   ]
  },
  {
   "cell_type": "code",
   "execution_count": null,
   "id": "d70eac79",
   "metadata": {},
   "outputs": [],
   "source": []
  }
 ],
 "metadata": {
  "kernelspec": {
   "display_name": "Python 3",
   "language": "python",
   "name": "python3"
  },
  "language_info": {
   "codemirror_mode": {
    "name": "ipython",
    "version": 3
   },
   "file_extension": ".py",
   "mimetype": "text/x-python",
   "name": "python",
   "nbconvert_exporter": "python",
   "pygments_lexer": "ipython3",
   "version": "3.7.5"
  }
 },
 "nbformat": 4,
 "nbformat_minor": 5
}
